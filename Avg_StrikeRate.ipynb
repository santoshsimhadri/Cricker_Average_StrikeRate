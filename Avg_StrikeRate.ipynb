{
 "cells": [
  {
   "cell_type": "code",
   "execution_count": 1,
   "id": "27ccb7d4",
   "metadata": {},
   "outputs": [],
   "source": [
    "import pandas as pd\n",
    "import numpy as np\n",
    "import matplotlib.pyplot as plt\n",
    "import os"
   ]
  },
  {
   "cell_type": "code",
   "execution_count": 2,
   "id": "457a27c0",
   "metadata": {},
   "outputs": [
    {
     "data": {
      "text/plain": [
       "'C:\\\\Users\\\\santosh simhadri'"
      ]
     },
     "execution_count": 2,
     "metadata": {},
     "output_type": "execute_result"
    }
   ],
   "source": [
    "os.getcwd()"
   ]
  },
  {
   "cell_type": "code",
   "execution_count": 3,
   "id": "13a7794d",
   "metadata": {},
   "outputs": [],
   "source": [
    "df=pd.read_excel('C:\\\\Users\\\\santosh simhadri\\\\Datasets\\\\bat_avg_india.xlsx')"
   ]
  },
  {
   "cell_type": "code",
   "execution_count": 4,
   "id": "b9146584",
   "metadata": {},
   "outputs": [
    {
     "data": {
      "text/html": [
       "<div>\n",
       "<style scoped>\n",
       "    .dataframe tbody tr th:only-of-type {\n",
       "        vertical-align: middle;\n",
       "    }\n",
       "\n",
       "    .dataframe tbody tr th {\n",
       "        vertical-align: top;\n",
       "    }\n",
       "\n",
       "    .dataframe thead th {\n",
       "        text-align: right;\n",
       "    }\n",
       "</style>\n",
       "<table border=\"1\" class=\"dataframe\">\n",
       "  <thead>\n",
       "    <tr style=\"text-align: right;\">\n",
       "      <th></th>\n",
       "      <th>Player</th>\n",
       "      <th>Span</th>\n",
       "      <th>Mat</th>\n",
       "      <th>Inns</th>\n",
       "      <th>NO</th>\n",
       "      <th>Runs</th>\n",
       "      <th>HS</th>\n",
       "      <th>Ave</th>\n",
       "      <th>BF</th>\n",
       "      <th>SR</th>\n",
       "      <th>100</th>\n",
       "      <th>50</th>\n",
       "      <th>0</th>\n",
       "      <th>4s</th>\n",
       "      <th>6s</th>\n",
       "    </tr>\n",
       "  </thead>\n",
       "  <tbody>\n",
       "    <tr>\n",
       "      <th>0</th>\n",
       "      <td>AB Agarkar</td>\n",
       "      <td>2006-2007</td>\n",
       "      <td>4</td>\n",
       "      <td>2</td>\n",
       "      <td>0</td>\n",
       "      <td>15</td>\n",
       "      <td>14</td>\n",
       "      <td>7.5</td>\n",
       "      <td>11</td>\n",
       "      <td>136.36</td>\n",
       "      <td>0</td>\n",
       "      <td>0</td>\n",
       "      <td>0</td>\n",
       "      <td>2</td>\n",
       "      <td>0</td>\n",
       "    </tr>\n",
       "    <tr>\n",
       "      <th>1</th>\n",
       "      <td>KK Ahmed</td>\n",
       "      <td>2018-2019</td>\n",
       "      <td>14</td>\n",
       "      <td>1</td>\n",
       "      <td>1</td>\n",
       "      <td>1</td>\n",
       "      <td>1*</td>\n",
       "      <td>-</td>\n",
       "      <td>1</td>\n",
       "      <td>100</td>\n",
       "      <td>0</td>\n",
       "      <td>0</td>\n",
       "      <td>0</td>\n",
       "      <td>0</td>\n",
       "      <td>0</td>\n",
       "    </tr>\n",
       "    <tr>\n",
       "      <th>2</th>\n",
       "      <td>S Aravind</td>\n",
       "      <td>2015-2015</td>\n",
       "      <td>1</td>\n",
       "      <td>-</td>\n",
       "      <td>-</td>\n",
       "      <td>-</td>\n",
       "      <td>-</td>\n",
       "      <td>-</td>\n",
       "      <td>-</td>\n",
       "      <td>-</td>\n",
       "      <td>-</td>\n",
       "      <td>-</td>\n",
       "      <td>-</td>\n",
       "      <td>-</td>\n",
       "      <td>-</td>\n",
       "    </tr>\n",
       "    <tr>\n",
       "      <th>3</th>\n",
       "      <td>Arshdeep Singh</td>\n",
       "      <td>2022-2022</td>\n",
       "      <td>13</td>\n",
       "      <td>3</td>\n",
       "      <td>3</td>\n",
       "      <td>4</td>\n",
       "      <td>2*</td>\n",
       "      <td>-</td>\n",
       "      <td>3</td>\n",
       "      <td>133.33</td>\n",
       "      <td>0</td>\n",
       "      <td>0</td>\n",
       "      <td>0</td>\n",
       "      <td>0</td>\n",
       "      <td>0</td>\n",
       "    </tr>\n",
       "    <tr>\n",
       "      <th>4</th>\n",
       "      <td>R Ashwin</td>\n",
       "      <td>2010-2022</td>\n",
       "      <td>59</td>\n",
       "      <td>15</td>\n",
       "      <td>9</td>\n",
       "      <td>163</td>\n",
       "      <td>31*</td>\n",
       "      <td>27.16</td>\n",
       "      <td>142</td>\n",
       "      <td>114.78</td>\n",
       "      <td>0</td>\n",
       "      <td>0</td>\n",
       "      <td>0</td>\n",
       "      <td>16</td>\n",
       "      <td>3</td>\n",
       "    </tr>\n",
       "  </tbody>\n",
       "</table>\n",
       "</div>"
      ],
      "text/plain": [
       "           Player       Span  Mat Inns NO Runs   HS    Ave   BF      SR 100  \\\n",
       "0      AB Agarkar  2006-2007    4    2  0   15   14    7.5   11  136.36   0   \n",
       "1        KK Ahmed  2018-2019   14    1  1    1   1*      -    1     100   0   \n",
       "2       S Aravind  2015-2015    1    -  -    -    -      -    -       -   -   \n",
       "3  Arshdeep Singh  2022-2022   13    3  3    4   2*      -    3  133.33   0   \n",
       "4        R Ashwin  2010-2022   59   15  9  163  31*  27.16  142  114.78   0   \n",
       "\n",
       "  50  0  4s 6s  \n",
       "0  0  0   2  0  \n",
       "1  0  0   0  0  \n",
       "2  -  -   -  -  \n",
       "3  0  0   0  0  \n",
       "4  0  0  16  3  "
      ]
     },
     "execution_count": 4,
     "metadata": {},
     "output_type": "execute_result"
    }
   ],
   "source": [
    "df.head()"
   ]
  },
  {
   "cell_type": "code",
   "execution_count": 5,
   "id": "2797733b",
   "metadata": {},
   "outputs": [
    {
     "name": "stdout",
     "output_type": "stream",
     "text": [
      "<class 'pandas.core.frame.DataFrame'>\n",
      "RangeIndex: 99 entries, 0 to 98\n",
      "Data columns (total 15 columns):\n",
      " #   Column  Non-Null Count  Dtype \n",
      "---  ------  --------------  ----- \n",
      " 0   Player  99 non-null     object\n",
      " 1   Span    99 non-null     object\n",
      " 2   Mat     99 non-null     int64 \n",
      " 3   Inns    99 non-null     object\n",
      " 4   NO      99 non-null     object\n",
      " 5   Runs    99 non-null     object\n",
      " 6   HS      99 non-null     object\n",
      " 7   Ave     99 non-null     object\n",
      " 8   BF      99 non-null     object\n",
      " 9   SR      99 non-null     object\n",
      " 10  100     99 non-null     object\n",
      " 11  50      99 non-null     object\n",
      " 12  0       99 non-null     object\n",
      " 13  4s      99 non-null     object\n",
      " 14  6s      99 non-null     object\n",
      "dtypes: int64(1), object(14)\n",
      "memory usage: 11.7+ KB\n"
     ]
    }
   ],
   "source": [
    "df.info()"
   ]
  },
  {
   "cell_type": "code",
   "execution_count": 6,
   "id": "f416b68a",
   "metadata": {},
   "outputs": [
    {
     "data": {
      "text/plain": [
       "Player    0\n",
       "Span      0\n",
       "Mat       0\n",
       "Inns      0\n",
       "NO        0\n",
       "Runs      0\n",
       "HS        0\n",
       "Ave       0\n",
       "BF        0\n",
       "SR        0\n",
       "100       0\n",
       "50        0\n",
       "0         0\n",
       "4s        0\n",
       "6s        0\n",
       "dtype: int64"
      ]
     },
     "execution_count": 6,
     "metadata": {},
     "output_type": "execute_result"
    }
   ],
   "source": [
    "df.isnull().sum()"
   ]
  },
  {
   "cell_type": "code",
   "execution_count": 7,
   "id": "71e1b17c",
   "metadata": {},
   "outputs": [],
   "source": [
    "df.iloc[:,2:]=df.iloc[:,2:].replace(\"-\",'0',regex=True)"
   ]
  },
  {
   "cell_type": "code",
   "execution_count": 8,
   "id": "9042f83e",
   "metadata": {},
   "outputs": [
    {
     "data": {
      "text/html": [
       "<div>\n",
       "<style scoped>\n",
       "    .dataframe tbody tr th:only-of-type {\n",
       "        vertical-align: middle;\n",
       "    }\n",
       "\n",
       "    .dataframe tbody tr th {\n",
       "        vertical-align: top;\n",
       "    }\n",
       "\n",
       "    .dataframe thead th {\n",
       "        text-align: right;\n",
       "    }\n",
       "</style>\n",
       "<table border=\"1\" class=\"dataframe\">\n",
       "  <thead>\n",
       "    <tr style=\"text-align: right;\">\n",
       "      <th></th>\n",
       "      <th>Player</th>\n",
       "      <th>Span</th>\n",
       "      <th>Mat</th>\n",
       "      <th>Inns</th>\n",
       "      <th>NO</th>\n",
       "      <th>Runs</th>\n",
       "      <th>HS</th>\n",
       "      <th>Ave</th>\n",
       "      <th>BF</th>\n",
       "      <th>SR</th>\n",
       "      <th>100</th>\n",
       "      <th>50</th>\n",
       "      <th>0</th>\n",
       "      <th>4s</th>\n",
       "      <th>6s</th>\n",
       "    </tr>\n",
       "  </thead>\n",
       "  <tbody>\n",
       "    <tr>\n",
       "      <th>0</th>\n",
       "      <td>AB Agarkar</td>\n",
       "      <td>2006-2007</td>\n",
       "      <td>4</td>\n",
       "      <td>2</td>\n",
       "      <td>0</td>\n",
       "      <td>15</td>\n",
       "      <td>14</td>\n",
       "      <td>7.5</td>\n",
       "      <td>11</td>\n",
       "      <td>136.36</td>\n",
       "      <td>0</td>\n",
       "      <td>0</td>\n",
       "      <td>0</td>\n",
       "      <td>2</td>\n",
       "      <td>0</td>\n",
       "    </tr>\n",
       "    <tr>\n",
       "      <th>1</th>\n",
       "      <td>KK Ahmed</td>\n",
       "      <td>2018-2019</td>\n",
       "      <td>14</td>\n",
       "      <td>1</td>\n",
       "      <td>1</td>\n",
       "      <td>1</td>\n",
       "      <td>1*</td>\n",
       "      <td>0</td>\n",
       "      <td>1</td>\n",
       "      <td>100</td>\n",
       "      <td>0</td>\n",
       "      <td>0</td>\n",
       "      <td>0</td>\n",
       "      <td>0</td>\n",
       "      <td>0</td>\n",
       "    </tr>\n",
       "    <tr>\n",
       "      <th>2</th>\n",
       "      <td>S Aravind</td>\n",
       "      <td>2015-2015</td>\n",
       "      <td>1</td>\n",
       "      <td>0</td>\n",
       "      <td>0</td>\n",
       "      <td>0</td>\n",
       "      <td>0</td>\n",
       "      <td>0</td>\n",
       "      <td>0</td>\n",
       "      <td>0</td>\n",
       "      <td>0</td>\n",
       "      <td>0</td>\n",
       "      <td>0</td>\n",
       "      <td>0</td>\n",
       "      <td>0</td>\n",
       "    </tr>\n",
       "    <tr>\n",
       "      <th>3</th>\n",
       "      <td>Arshdeep Singh</td>\n",
       "      <td>2022-2022</td>\n",
       "      <td>13</td>\n",
       "      <td>3</td>\n",
       "      <td>3</td>\n",
       "      <td>4</td>\n",
       "      <td>2*</td>\n",
       "      <td>0</td>\n",
       "      <td>3</td>\n",
       "      <td>133.33</td>\n",
       "      <td>0</td>\n",
       "      <td>0</td>\n",
       "      <td>0</td>\n",
       "      <td>0</td>\n",
       "      <td>0</td>\n",
       "    </tr>\n",
       "    <tr>\n",
       "      <th>4</th>\n",
       "      <td>R Ashwin</td>\n",
       "      <td>2010-2022</td>\n",
       "      <td>59</td>\n",
       "      <td>15</td>\n",
       "      <td>9</td>\n",
       "      <td>163</td>\n",
       "      <td>31*</td>\n",
       "      <td>27.16</td>\n",
       "      <td>142</td>\n",
       "      <td>114.78</td>\n",
       "      <td>0</td>\n",
       "      <td>0</td>\n",
       "      <td>0</td>\n",
       "      <td>16</td>\n",
       "      <td>3</td>\n",
       "    </tr>\n",
       "  </tbody>\n",
       "</table>\n",
       "</div>"
      ],
      "text/plain": [
       "           Player       Span  Mat Inns NO Runs   HS    Ave   BF      SR 100  \\\n",
       "0      AB Agarkar  2006-2007    4    2  0   15   14    7.5   11  136.36   0   \n",
       "1        KK Ahmed  2018-2019   14    1  1    1   1*      0    1     100   0   \n",
       "2       S Aravind  2015-2015    1    0  0    0    0      0    0       0   0   \n",
       "3  Arshdeep Singh  2022-2022   13    3  3    4   2*      0    3  133.33   0   \n",
       "4        R Ashwin  2010-2022   59   15  9  163  31*  27.16  142  114.78   0   \n",
       "\n",
       "  50  0  4s 6s  \n",
       "0  0  0   2  0  \n",
       "1  0  0   0  0  \n",
       "2  0  0   0  0  \n",
       "3  0  0   0  0  \n",
       "4  0  0  16  3  "
      ]
     },
     "execution_count": 8,
     "metadata": {},
     "output_type": "execute_result"
    }
   ],
   "source": [
    "df.head()"
   ]
  },
  {
   "cell_type": "code",
   "execution_count": 9,
   "id": "e3063bf6",
   "metadata": {},
   "outputs": [],
   "source": [
    "df['HS']=df['HS'].replace(\"\\*\",\"\",regex=True)"
   ]
  },
  {
   "cell_type": "code",
   "execution_count": 10,
   "id": "dd4c7090",
   "metadata": {},
   "outputs": [
    {
     "data": {
      "text/html": [
       "<div>\n",
       "<style scoped>\n",
       "    .dataframe tbody tr th:only-of-type {\n",
       "        vertical-align: middle;\n",
       "    }\n",
       "\n",
       "    .dataframe tbody tr th {\n",
       "        vertical-align: top;\n",
       "    }\n",
       "\n",
       "    .dataframe thead th {\n",
       "        text-align: right;\n",
       "    }\n",
       "</style>\n",
       "<table border=\"1\" class=\"dataframe\">\n",
       "  <thead>\n",
       "    <tr style=\"text-align: right;\">\n",
       "      <th></th>\n",
       "      <th>Player</th>\n",
       "      <th>Span</th>\n",
       "      <th>Mat</th>\n",
       "      <th>Inns</th>\n",
       "      <th>NO</th>\n",
       "      <th>Runs</th>\n",
       "      <th>HS</th>\n",
       "      <th>Ave</th>\n",
       "      <th>BF</th>\n",
       "      <th>SR</th>\n",
       "      <th>100</th>\n",
       "      <th>50</th>\n",
       "      <th>0</th>\n",
       "      <th>4s</th>\n",
       "      <th>6s</th>\n",
       "    </tr>\n",
       "  </thead>\n",
       "  <tbody>\n",
       "    <tr>\n",
       "      <th>0</th>\n",
       "      <td>AB Agarkar</td>\n",
       "      <td>2006-2007</td>\n",
       "      <td>4</td>\n",
       "      <td>2</td>\n",
       "      <td>0</td>\n",
       "      <td>15</td>\n",
       "      <td>14</td>\n",
       "      <td>7.5</td>\n",
       "      <td>11</td>\n",
       "      <td>136.36</td>\n",
       "      <td>0</td>\n",
       "      <td>0</td>\n",
       "      <td>0</td>\n",
       "      <td>2</td>\n",
       "      <td>0</td>\n",
       "    </tr>\n",
       "    <tr>\n",
       "      <th>1</th>\n",
       "      <td>KK Ahmed</td>\n",
       "      <td>2018-2019</td>\n",
       "      <td>14</td>\n",
       "      <td>1</td>\n",
       "      <td>1</td>\n",
       "      <td>1</td>\n",
       "      <td>1</td>\n",
       "      <td>0</td>\n",
       "      <td>1</td>\n",
       "      <td>100</td>\n",
       "      <td>0</td>\n",
       "      <td>0</td>\n",
       "      <td>0</td>\n",
       "      <td>0</td>\n",
       "      <td>0</td>\n",
       "    </tr>\n",
       "    <tr>\n",
       "      <th>2</th>\n",
       "      <td>S Aravind</td>\n",
       "      <td>2015-2015</td>\n",
       "      <td>1</td>\n",
       "      <td>0</td>\n",
       "      <td>0</td>\n",
       "      <td>0</td>\n",
       "      <td>0</td>\n",
       "      <td>0</td>\n",
       "      <td>0</td>\n",
       "      <td>0</td>\n",
       "      <td>0</td>\n",
       "      <td>0</td>\n",
       "      <td>0</td>\n",
       "      <td>0</td>\n",
       "      <td>0</td>\n",
       "    </tr>\n",
       "    <tr>\n",
       "      <th>3</th>\n",
       "      <td>Arshdeep Singh</td>\n",
       "      <td>2022-2022</td>\n",
       "      <td>13</td>\n",
       "      <td>3</td>\n",
       "      <td>3</td>\n",
       "      <td>4</td>\n",
       "      <td>2</td>\n",
       "      <td>0</td>\n",
       "      <td>3</td>\n",
       "      <td>133.33</td>\n",
       "      <td>0</td>\n",
       "      <td>0</td>\n",
       "      <td>0</td>\n",
       "      <td>0</td>\n",
       "      <td>0</td>\n",
       "    </tr>\n",
       "    <tr>\n",
       "      <th>4</th>\n",
       "      <td>R Ashwin</td>\n",
       "      <td>2010-2022</td>\n",
       "      <td>59</td>\n",
       "      <td>15</td>\n",
       "      <td>9</td>\n",
       "      <td>163</td>\n",
       "      <td>31</td>\n",
       "      <td>27.16</td>\n",
       "      <td>142</td>\n",
       "      <td>114.78</td>\n",
       "      <td>0</td>\n",
       "      <td>0</td>\n",
       "      <td>0</td>\n",
       "      <td>16</td>\n",
       "      <td>3</td>\n",
       "    </tr>\n",
       "  </tbody>\n",
       "</table>\n",
       "</div>"
      ],
      "text/plain": [
       "           Player       Span  Mat Inns NO Runs  HS    Ave   BF      SR 100 50  \\\n",
       "0      AB Agarkar  2006-2007    4    2  0   15  14    7.5   11  136.36   0  0   \n",
       "1        KK Ahmed  2018-2019   14    1  1    1   1      0    1     100   0  0   \n",
       "2       S Aravind  2015-2015    1    0  0    0   0      0    0       0   0  0   \n",
       "3  Arshdeep Singh  2022-2022   13    3  3    4   2      0    3  133.33   0  0   \n",
       "4        R Ashwin  2010-2022   59   15  9  163  31  27.16  142  114.78   0  0   \n",
       "\n",
       "   0  4s 6s  \n",
       "0  0   2  0  \n",
       "1  0   0  0  \n",
       "2  0   0  0  \n",
       "3  0   0  0  \n",
       "4  0  16  3  "
      ]
     },
     "execution_count": 10,
     "metadata": {},
     "output_type": "execute_result"
    }
   ],
   "source": [
    "df.head()"
   ]
  },
  {
   "cell_type": "code",
   "execution_count": 11,
   "id": "d8ad7e88",
   "metadata": {},
   "outputs": [],
   "source": [
    "df[\"Inns\"]=df[\"Inns\"].astype(int)\n",
    "df[\"NO\"]=df[\"NO\"].astype(int)\n",
    "df[\"Runs\"]=df[\"Runs\"].astype(int)\n",
    "df[\"Ave\"]=df[\"Ave\"].astype(float)\n",
    "df[\"BF\"]=df[\"BF\"].astype(int)\n",
    "df[\"SR\"]=df[\"SR\"].astype(float)\n",
    "df[50]=df[50].astype(int)\n",
    "df[0]=df[0].astype(int)\n",
    "df[\"4s\"]=df[\"4s\"].astype(int)\n",
    "df[\"6s\"]=df[\"6s\"].astype(int)\n",
    "df[100]=df[100].astype(int)\n",
    "df[\"HS\"]=df[\"HS\"].astype(int)"
   ]
  },
  {
   "cell_type": "code",
   "execution_count": 12,
   "id": "89fa0c3a",
   "metadata": {},
   "outputs": [
    {
     "name": "stdout",
     "output_type": "stream",
     "text": [
      "<class 'pandas.core.frame.DataFrame'>\n",
      "RangeIndex: 99 entries, 0 to 98\n",
      "Data columns (total 15 columns):\n",
      " #   Column  Non-Null Count  Dtype  \n",
      "---  ------  --------------  -----  \n",
      " 0   Player  99 non-null     object \n",
      " 1   Span    99 non-null     object \n",
      " 2   Mat     99 non-null     int64  \n",
      " 3   Inns    99 non-null     int32  \n",
      " 4   NO      99 non-null     int32  \n",
      " 5   Runs    99 non-null     int32  \n",
      " 6   HS      99 non-null     int32  \n",
      " 7   Ave     99 non-null     float64\n",
      " 8   BF      99 non-null     int32  \n",
      " 9   SR      99 non-null     float64\n",
      " 10  100     99 non-null     int32  \n",
      " 11  50      99 non-null     int32  \n",
      " 12  0       99 non-null     int32  \n",
      " 13  4s      99 non-null     int32  \n",
      " 14  6s      99 non-null     int32  \n",
      "dtypes: float64(2), int32(10), int64(1), object(2)\n",
      "memory usage: 7.9+ KB\n"
     ]
    }
   ],
   "source": [
    "df.info()"
   ]
  },
  {
   "cell_type": "code",
   "execution_count": 13,
   "id": "f32e4e44",
   "metadata": {},
   "outputs": [
    {
     "data": {
      "text/html": [
       "<div>\n",
       "<style scoped>\n",
       "    .dataframe tbody tr th:only-of-type {\n",
       "        vertical-align: middle;\n",
       "    }\n",
       "\n",
       "    .dataframe tbody tr th {\n",
       "        vertical-align: top;\n",
       "    }\n",
       "\n",
       "    .dataframe thead th {\n",
       "        text-align: right;\n",
       "    }\n",
       "</style>\n",
       "<table border=\"1\" class=\"dataframe\">\n",
       "  <thead>\n",
       "    <tr style=\"text-align: right;\">\n",
       "      <th></th>\n",
       "      <th>Mat</th>\n",
       "      <th>Inns</th>\n",
       "      <th>NO</th>\n",
       "      <th>Runs</th>\n",
       "      <th>HS</th>\n",
       "      <th>Ave</th>\n",
       "      <th>BF</th>\n",
       "      <th>SR</th>\n",
       "      <th>100</th>\n",
       "      <th>50</th>\n",
       "      <th>0</th>\n",
       "      <th>4s</th>\n",
       "      <th>6s</th>\n",
       "    </tr>\n",
       "  </thead>\n",
       "  <tbody>\n",
       "    <tr>\n",
       "      <th>count</th>\n",
       "      <td>99.000000</td>\n",
       "      <td>99.000000</td>\n",
       "      <td>99.000000</td>\n",
       "      <td>99.000000</td>\n",
       "      <td>99.000000</td>\n",
       "      <td>99.000000</td>\n",
       "      <td>99.000000</td>\n",
       "      <td>99.000000</td>\n",
       "      <td>99.000000</td>\n",
       "      <td>99.000000</td>\n",
       "      <td>99.000000</td>\n",
       "      <td>99.000000</td>\n",
       "      <td>99.000000</td>\n",
       "    </tr>\n",
       "    <tr>\n",
       "      <th>mean</th>\n",
       "      <td>20.565657</td>\n",
       "      <td>12.767677</td>\n",
       "      <td>3.434343</td>\n",
       "      <td>276.747475</td>\n",
       "      <td>28.232323</td>\n",
       "      <td>14.641010</td>\n",
       "      <td>206.585859</td>\n",
       "      <td>90.593838</td>\n",
       "      <td>0.101010</td>\n",
       "      <td>1.535354</td>\n",
       "      <td>0.797980</td>\n",
       "      <td>24.242424</td>\n",
       "      <td>10.636364</td>\n",
       "    </tr>\n",
       "    <tr>\n",
       "      <th>std</th>\n",
       "      <td>26.950128</td>\n",
       "      <td>23.154242</td>\n",
       "      <td>6.438344</td>\n",
       "      <td>651.684307</td>\n",
       "      <td>32.842179</td>\n",
       "      <td>14.713069</td>\n",
       "      <td>473.895451</td>\n",
       "      <td>58.958178</td>\n",
       "      <td>0.484346</td>\n",
       "      <td>5.033182</td>\n",
       "      <td>1.442644</td>\n",
       "      <td>58.336828</td>\n",
       "      <td>26.304905</td>\n",
       "    </tr>\n",
       "    <tr>\n",
       "      <th>min</th>\n",
       "      <td>1.000000</td>\n",
       "      <td>0.000000</td>\n",
       "      <td>0.000000</td>\n",
       "      <td>0.000000</td>\n",
       "      <td>0.000000</td>\n",
       "      <td>0.000000</td>\n",
       "      <td>0.000000</td>\n",
       "      <td>0.000000</td>\n",
       "      <td>0.000000</td>\n",
       "      <td>0.000000</td>\n",
       "      <td>0.000000</td>\n",
       "      <td>0.000000</td>\n",
       "      <td>0.000000</td>\n",
       "    </tr>\n",
       "    <tr>\n",
       "      <th>25%</th>\n",
       "      <td>3.000000</td>\n",
       "      <td>1.000000</td>\n",
       "      <td>0.000000</td>\n",
       "      <td>1.000000</td>\n",
       "      <td>1.000000</td>\n",
       "      <td>0.000000</td>\n",
       "      <td>2.000000</td>\n",
       "      <td>44.945000</td>\n",
       "      <td>0.000000</td>\n",
       "      <td>0.000000</td>\n",
       "      <td>0.000000</td>\n",
       "      <td>0.000000</td>\n",
       "      <td>0.000000</td>\n",
       "    </tr>\n",
       "    <tr>\n",
       "      <th>50%</th>\n",
       "      <td>10.000000</td>\n",
       "      <td>3.000000</td>\n",
       "      <td>1.000000</td>\n",
       "      <td>22.000000</td>\n",
       "      <td>16.000000</td>\n",
       "      <td>10.000000</td>\n",
       "      <td>24.000000</td>\n",
       "      <td>109.090000</td>\n",
       "      <td>0.000000</td>\n",
       "      <td>0.000000</td>\n",
       "      <td>0.000000</td>\n",
       "      <td>2.000000</td>\n",
       "      <td>0.000000</td>\n",
       "    </tr>\n",
       "    <tr>\n",
       "      <th>75%</th>\n",
       "      <td>24.500000</td>\n",
       "      <td>12.500000</td>\n",
       "      <td>3.000000</td>\n",
       "      <td>162.500000</td>\n",
       "      <td>47.000000</td>\n",
       "      <td>24.850000</td>\n",
       "      <td>131.000000</td>\n",
       "      <td>135.040000</td>\n",
       "      <td>0.000000</td>\n",
       "      <td>0.000000</td>\n",
       "      <td>1.000000</td>\n",
       "      <td>13.000000</td>\n",
       "      <td>6.000000</td>\n",
       "    </tr>\n",
       "    <tr>\n",
       "      <th>max</th>\n",
       "      <td>142.000000</td>\n",
       "      <td>134.000000</td>\n",
       "      <td>42.000000</td>\n",
       "      <td>3737.000000</td>\n",
       "      <td>122.000000</td>\n",
       "      <td>53.000000</td>\n",
       "      <td>2688.000000</td>\n",
       "      <td>250.000000</td>\n",
       "      <td>4.000000</td>\n",
       "      <td>33.000000</td>\n",
       "      <td>10.000000</td>\n",
       "      <td>337.000000</td>\n",
       "      <td>178.000000</td>\n",
       "    </tr>\n",
       "  </tbody>\n",
       "</table>\n",
       "</div>"
      ],
      "text/plain": [
       "              Mat        Inns         NO         Runs          HS        Ave  \\\n",
       "count   99.000000   99.000000  99.000000    99.000000   99.000000  99.000000   \n",
       "mean    20.565657   12.767677   3.434343   276.747475   28.232323  14.641010   \n",
       "std     26.950128   23.154242   6.438344   651.684307   32.842179  14.713069   \n",
       "min      1.000000    0.000000   0.000000     0.000000    0.000000   0.000000   \n",
       "25%      3.000000    1.000000   0.000000     1.000000    1.000000   0.000000   \n",
       "50%     10.000000    3.000000   1.000000    22.000000   16.000000  10.000000   \n",
       "75%     24.500000   12.500000   3.000000   162.500000   47.000000  24.850000   \n",
       "max    142.000000  134.000000  42.000000  3737.000000  122.000000  53.000000   \n",
       "\n",
       "                BF          SR        100         50          0          4s  \\\n",
       "count    99.000000   99.000000  99.000000  99.000000  99.000000   99.000000   \n",
       "mean    206.585859   90.593838   0.101010   1.535354   0.797980   24.242424   \n",
       "std     473.895451   58.958178   0.484346   5.033182   1.442644   58.336828   \n",
       "min       0.000000    0.000000   0.000000   0.000000   0.000000    0.000000   \n",
       "25%       2.000000   44.945000   0.000000   0.000000   0.000000    0.000000   \n",
       "50%      24.000000  109.090000   0.000000   0.000000   0.000000    2.000000   \n",
       "75%     131.000000  135.040000   0.000000   0.000000   1.000000   13.000000   \n",
       "max    2688.000000  250.000000   4.000000  33.000000  10.000000  337.000000   \n",
       "\n",
       "               6s  \n",
       "count   99.000000  \n",
       "mean    10.636364  \n",
       "std     26.304905  \n",
       "min      0.000000  \n",
       "25%      0.000000  \n",
       "50%      0.000000  \n",
       "75%      6.000000  \n",
       "max    178.000000  "
      ]
     },
     "execution_count": 13,
     "metadata": {},
     "output_type": "execute_result"
    }
   ],
   "source": [
    "df.describe()"
   ]
  },
  {
   "cell_type": "code",
   "execution_count": 14,
   "id": "0c2d30e4",
   "metadata": {},
   "outputs": [
    {
     "data": {
      "text/plain": [
       "Player    0\n",
       "Span      0\n",
       "Mat       0\n",
       "Inns      0\n",
       "NO        0\n",
       "Runs      0\n",
       "HS        0\n",
       "Ave       0\n",
       "BF        0\n",
       "SR        0\n",
       "100       0\n",
       "50        0\n",
       "0         0\n",
       "4s        0\n",
       "6s        0\n",
       "dtype: int64"
      ]
     },
     "execution_count": 14,
     "metadata": {},
     "output_type": "execute_result"
    }
   ],
   "source": [
    "df.isnull().sum()"
   ]
  },
  {
   "cell_type": "code",
   "execution_count": 15,
   "id": "6d2a27d3",
   "metadata": {},
   "outputs": [
    {
     "data": {
      "text/html": [
       "<div>\n",
       "<style scoped>\n",
       "    .dataframe tbody tr th:only-of-type {\n",
       "        vertical-align: middle;\n",
       "    }\n",
       "\n",
       "    .dataframe tbody tr th {\n",
       "        vertical-align: top;\n",
       "    }\n",
       "\n",
       "    .dataframe thead th {\n",
       "        text-align: right;\n",
       "    }\n",
       "</style>\n",
       "<table border=\"1\" class=\"dataframe\">\n",
       "  <thead>\n",
       "    <tr style=\"text-align: right;\">\n",
       "      <th></th>\n",
       "      <th>Player</th>\n",
       "      <th>Span</th>\n",
       "      <th>Mat</th>\n",
       "      <th>Inns</th>\n",
       "      <th>NO</th>\n",
       "      <th>Runs</th>\n",
       "      <th>HS</th>\n",
       "      <th>Ave</th>\n",
       "      <th>BF</th>\n",
       "      <th>SR</th>\n",
       "      <th>100</th>\n",
       "      <th>50</th>\n",
       "      <th>0</th>\n",
       "      <th>4s</th>\n",
       "      <th>6s</th>\n",
       "    </tr>\n",
       "  </thead>\n",
       "  <tbody>\n",
       "    <tr>\n",
       "      <th>0</th>\n",
       "      <td>AB Agarkar</td>\n",
       "      <td>2006-2007</td>\n",
       "      <td>4</td>\n",
       "      <td>2</td>\n",
       "      <td>0</td>\n",
       "      <td>15</td>\n",
       "      <td>14</td>\n",
       "      <td>7.50</td>\n",
       "      <td>11</td>\n",
       "      <td>136.36</td>\n",
       "      <td>0</td>\n",
       "      <td>0</td>\n",
       "      <td>0</td>\n",
       "      <td>2</td>\n",
       "      <td>0</td>\n",
       "    </tr>\n",
       "    <tr>\n",
       "      <th>1</th>\n",
       "      <td>KK Ahmed</td>\n",
       "      <td>2018-2019</td>\n",
       "      <td>14</td>\n",
       "      <td>1</td>\n",
       "      <td>1</td>\n",
       "      <td>1</td>\n",
       "      <td>1</td>\n",
       "      <td>0.00</td>\n",
       "      <td>1</td>\n",
       "      <td>100.00</td>\n",
       "      <td>0</td>\n",
       "      <td>0</td>\n",
       "      <td>0</td>\n",
       "      <td>0</td>\n",
       "      <td>0</td>\n",
       "    </tr>\n",
       "    <tr>\n",
       "      <th>2</th>\n",
       "      <td>S Aravind</td>\n",
       "      <td>2015-2015</td>\n",
       "      <td>1</td>\n",
       "      <td>0</td>\n",
       "      <td>0</td>\n",
       "      <td>0</td>\n",
       "      <td>0</td>\n",
       "      <td>0.00</td>\n",
       "      <td>0</td>\n",
       "      <td>0.00</td>\n",
       "      <td>0</td>\n",
       "      <td>0</td>\n",
       "      <td>0</td>\n",
       "      <td>0</td>\n",
       "      <td>0</td>\n",
       "    </tr>\n",
       "    <tr>\n",
       "      <th>3</th>\n",
       "      <td>Arshdeep Singh</td>\n",
       "      <td>2022-2022</td>\n",
       "      <td>13</td>\n",
       "      <td>3</td>\n",
       "      <td>3</td>\n",
       "      <td>4</td>\n",
       "      <td>2</td>\n",
       "      <td>0.00</td>\n",
       "      <td>3</td>\n",
       "      <td>133.33</td>\n",
       "      <td>0</td>\n",
       "      <td>0</td>\n",
       "      <td>0</td>\n",
       "      <td>0</td>\n",
       "      <td>0</td>\n",
       "    </tr>\n",
       "    <tr>\n",
       "      <th>4</th>\n",
       "      <td>R Ashwin</td>\n",
       "      <td>2010-2022</td>\n",
       "      <td>59</td>\n",
       "      <td>15</td>\n",
       "      <td>9</td>\n",
       "      <td>163</td>\n",
       "      <td>31</td>\n",
       "      <td>27.16</td>\n",
       "      <td>142</td>\n",
       "      <td>114.78</td>\n",
       "      <td>0</td>\n",
       "      <td>0</td>\n",
       "      <td>0</td>\n",
       "      <td>16</td>\n",
       "      <td>3</td>\n",
       "    </tr>\n",
       "  </tbody>\n",
       "</table>\n",
       "</div>"
      ],
      "text/plain": [
       "           Player       Span  Mat  Inns  NO  Runs  HS    Ave   BF      SR  \\\n",
       "0      AB Agarkar  2006-2007    4     2   0    15  14   7.50   11  136.36   \n",
       "1        KK Ahmed  2018-2019   14     1   1     1   1   0.00    1  100.00   \n",
       "2       S Aravind  2015-2015    1     0   0     0   0   0.00    0    0.00   \n",
       "3  Arshdeep Singh  2022-2022   13     3   3     4   2   0.00    3  133.33   \n",
       "4        R Ashwin  2010-2022   59    15   9   163  31  27.16  142  114.78   \n",
       "\n",
       "   100  50  0  4s  6s  \n",
       "0    0   0  0   2   0  \n",
       "1    0   0  0   0   0  \n",
       "2    0   0  0   0   0  \n",
       "3    0   0  0   0   0  \n",
       "4    0   0  0  16   3  "
      ]
     },
     "execution_count": 15,
     "metadata": {},
     "output_type": "execute_result"
    }
   ],
   "source": [
    "df.head()"
   ]
  },
  {
   "cell_type": "code",
   "execution_count": 16,
   "id": "7e30c492",
   "metadata": {},
   "outputs": [],
   "source": [
    "df[\"Got_Out\"]=df[\"Inns\"]-df[\"NO\"]"
   ]
  },
  {
   "cell_type": "code",
   "execution_count": 17,
   "id": "855f44d0",
   "metadata": {},
   "outputs": [
    {
     "data": {
      "text/html": [
       "<div>\n",
       "<style scoped>\n",
       "    .dataframe tbody tr th:only-of-type {\n",
       "        vertical-align: middle;\n",
       "    }\n",
       "\n",
       "    .dataframe tbody tr th {\n",
       "        vertical-align: top;\n",
       "    }\n",
       "\n",
       "    .dataframe thead th {\n",
       "        text-align: right;\n",
       "    }\n",
       "</style>\n",
       "<table border=\"1\" class=\"dataframe\">\n",
       "  <thead>\n",
       "    <tr style=\"text-align: right;\">\n",
       "      <th></th>\n",
       "      <th>Player</th>\n",
       "      <th>Span</th>\n",
       "      <th>Mat</th>\n",
       "      <th>Inns</th>\n",
       "      <th>NO</th>\n",
       "      <th>Runs</th>\n",
       "      <th>HS</th>\n",
       "      <th>Ave</th>\n",
       "      <th>BF</th>\n",
       "      <th>SR</th>\n",
       "      <th>100</th>\n",
       "      <th>50</th>\n",
       "      <th>0</th>\n",
       "      <th>4s</th>\n",
       "      <th>6s</th>\n",
       "      <th>Got_Out</th>\n",
       "    </tr>\n",
       "  </thead>\n",
       "  <tbody>\n",
       "    <tr>\n",
       "      <th>0</th>\n",
       "      <td>AB Agarkar</td>\n",
       "      <td>2006-2007</td>\n",
       "      <td>4</td>\n",
       "      <td>2</td>\n",
       "      <td>0</td>\n",
       "      <td>15</td>\n",
       "      <td>14</td>\n",
       "      <td>7.50</td>\n",
       "      <td>11</td>\n",
       "      <td>136.36</td>\n",
       "      <td>0</td>\n",
       "      <td>0</td>\n",
       "      <td>0</td>\n",
       "      <td>2</td>\n",
       "      <td>0</td>\n",
       "      <td>2</td>\n",
       "    </tr>\n",
       "    <tr>\n",
       "      <th>1</th>\n",
       "      <td>KK Ahmed</td>\n",
       "      <td>2018-2019</td>\n",
       "      <td>14</td>\n",
       "      <td>1</td>\n",
       "      <td>1</td>\n",
       "      <td>1</td>\n",
       "      <td>1</td>\n",
       "      <td>0.00</td>\n",
       "      <td>1</td>\n",
       "      <td>100.00</td>\n",
       "      <td>0</td>\n",
       "      <td>0</td>\n",
       "      <td>0</td>\n",
       "      <td>0</td>\n",
       "      <td>0</td>\n",
       "      <td>0</td>\n",
       "    </tr>\n",
       "    <tr>\n",
       "      <th>2</th>\n",
       "      <td>S Aravind</td>\n",
       "      <td>2015-2015</td>\n",
       "      <td>1</td>\n",
       "      <td>0</td>\n",
       "      <td>0</td>\n",
       "      <td>0</td>\n",
       "      <td>0</td>\n",
       "      <td>0.00</td>\n",
       "      <td>0</td>\n",
       "      <td>0.00</td>\n",
       "      <td>0</td>\n",
       "      <td>0</td>\n",
       "      <td>0</td>\n",
       "      <td>0</td>\n",
       "      <td>0</td>\n",
       "      <td>0</td>\n",
       "    </tr>\n",
       "    <tr>\n",
       "      <th>3</th>\n",
       "      <td>Arshdeep Singh</td>\n",
       "      <td>2022-2022</td>\n",
       "      <td>13</td>\n",
       "      <td>3</td>\n",
       "      <td>3</td>\n",
       "      <td>4</td>\n",
       "      <td>2</td>\n",
       "      <td>0.00</td>\n",
       "      <td>3</td>\n",
       "      <td>133.33</td>\n",
       "      <td>0</td>\n",
       "      <td>0</td>\n",
       "      <td>0</td>\n",
       "      <td>0</td>\n",
       "      <td>0</td>\n",
       "      <td>0</td>\n",
       "    </tr>\n",
       "    <tr>\n",
       "      <th>4</th>\n",
       "      <td>R Ashwin</td>\n",
       "      <td>2010-2022</td>\n",
       "      <td>59</td>\n",
       "      <td>15</td>\n",
       "      <td>9</td>\n",
       "      <td>163</td>\n",
       "      <td>31</td>\n",
       "      <td>27.16</td>\n",
       "      <td>142</td>\n",
       "      <td>114.78</td>\n",
       "      <td>0</td>\n",
       "      <td>0</td>\n",
       "      <td>0</td>\n",
       "      <td>16</td>\n",
       "      <td>3</td>\n",
       "      <td>6</td>\n",
       "    </tr>\n",
       "  </tbody>\n",
       "</table>\n",
       "</div>"
      ],
      "text/plain": [
       "           Player       Span  Mat  Inns  NO  Runs  HS    Ave   BF      SR  \\\n",
       "0      AB Agarkar  2006-2007    4     2   0    15  14   7.50   11  136.36   \n",
       "1        KK Ahmed  2018-2019   14     1   1     1   1   0.00    1  100.00   \n",
       "2       S Aravind  2015-2015    1     0   0     0   0   0.00    0    0.00   \n",
       "3  Arshdeep Singh  2022-2022   13     3   3     4   2   0.00    3  133.33   \n",
       "4        R Ashwin  2010-2022   59    15   9   163  31  27.16  142  114.78   \n",
       "\n",
       "   100  50  0  4s  6s  Got_Out  \n",
       "0    0   0  0   2   0        2  \n",
       "1    0   0  0   0   0        0  \n",
       "2    0   0  0   0   0        0  \n",
       "3    0   0  0   0   0        0  \n",
       "4    0   0  0  16   3        6  "
      ]
     },
     "execution_count": 17,
     "metadata": {},
     "output_type": "execute_result"
    }
   ],
   "source": [
    "df.head()"
   ]
  },
  {
   "cell_type": "code",
   "execution_count": 18,
   "id": "77e6c62d",
   "metadata": {},
   "outputs": [],
   "source": [
    "import seaborn as sns\n",
    "import warnings\n",
    "warnings.filterwarnings(\"ignore\",category=FutureWarning)"
   ]
  },
  {
   "cell_type": "code",
   "execution_count": 19,
   "id": "335d5b12",
   "metadata": {},
   "outputs": [
    {
     "data": {
      "image/png": "[encoded data removed]",
      "text/plain": [
       "<Figure size 432x432 with 1 Axes>"
      ]
     },
     "metadata": {
      "needs_background": "light"
     },
     "output_type": "display_data"
    }
   ],
   "source": [
    "plt.figure(figsize=(6,6))\n",
    "sns.distplot(df[\"SR\"])\n",
    "plt.show()"
   ]
  },
  {
   "cell_type": "code",
   "execution_count": 20,
   "id": "d3329920",
   "metadata": {},
   "outputs": [
    {
     "data": {
      "image/png": "[encoded data removed]",
      "text/plain": [
       "<Figure size 432x432 with 1 Axes>"
      ]
     },
     "metadata": {
      "needs_background": "light"
     },
     "output_type": "display_data"
    }
   ],
   "source": [
    "plt.figure(figsize=(6,6))\n",
    "sns.distplot(df[\"SR\"])\n",
    "plt.show()"
   ]
  },
  {
   "cell_type": "code",
   "execution_count": 21,
   "id": "03348a71",
   "metadata": {},
   "outputs": [
    {
     "data": {
      "image/png": "[encoded data removed]",
      "text/plain": [
       "<Figure size 432x432 with 1 Axes>"
      ]
     },
     "metadata": {
      "needs_background": "light"
     },
     "output_type": "display_data"
    }
   ],
   "source": [
    "plt.figure(figsize=(6,6))\n",
    "sns.distplot(df[\"Runs\"])\n",
    "plt.show()"
   ]
  },
  {
   "cell_type": "code",
   "execution_count": 22,
   "id": "a7a755fb",
   "metadata": {},
   "outputs": [
    {
     "data": {
      "image/png": "[encoded data removed]",
      "text/plain": [
       "<Figure size 432x432 with 1 Axes>"
      ]
     },
     "metadata": {
      "needs_background": "light"
     },
     "output_type": "display_data"
    }
   ],
   "source": [
    "plt.figure(figsize=(6,6))\n",
    "sns.distplot(df[\"HS\"])\n",
    "plt.show()"
   ]
  },
  {
   "cell_type": "code",
   "execution_count": null,
   "id": "cd679d43",
   "metadata": {},
   "outputs": [],
   "source": []
  },
  {
   "cell_type": "markdown",
   "id": "74693c68",
   "metadata": {},
   "source": [
    "NOW CALCULATING THE AVEARGE OF BATSMAN"
   ]
  },
  {
   "cell_type": "code",
   "execution_count": 23,
   "id": "1280b734",
   "metadata": {},
   "outputs": [
    {
     "data": {
      "text/plain": [
       "array([[  15,    2],\n",
       "       [   1,    0],\n",
       "       [   0,    0],\n",
       "       [   4,    0],\n",
       "       [ 163,    6],\n",
       "       [  10,    1],\n",
       "       [   0,    0],\n",
       "       [  43,    1],\n",
       "       [   0,    0],\n",
       "       [  35,    2],\n",
       "       [   8,    2],\n",
       "       [   5,    2],\n",
       "       [  53,    1],\n",
       "       [   5,    1],\n",
       "       [   0,    1],\n",
       "       [   1,    0],\n",
       "       [1759,   63],\n",
       "       [1617,   43],\n",
       "       [  22,    1],\n",
       "       [  31,    1],\n",
       "       [ 105,    6],\n",
       "       [ 135,    8],\n",
       "       [ 932,   34],\n",
       "       [ 108,    8],\n",
       "       [ 293,    7],\n",
       "       [ 543,   18],\n",
       "       [1030,   32],\n",
       "       [ 133,    4],\n",
       "       [ 457,   19],\n",
       "       [ 122,    6],\n",
       "       [   0,    0],\n",
       "       [ 672,   22],\n",
       "       [   0,    0],\n",
       "       [   0,    0],\n",
       "       [  13,    2],\n",
       "       [3712,   73],\n",
       "       [  43,    1],\n",
       "       [   1,    0],\n",
       "       [  62,    8],\n",
       "       [   7,    3],\n",
       "       [  87,    2],\n",
       "       [   0,    0],\n",
       "       [   0,    1],\n",
       "       [   0,    0],\n",
       "       [   5,    1],\n",
       "       [  38,    1],\n",
       "       [   0,    0],\n",
       "       [   0,    0],\n",
       "       [  28,    5],\n",
       "       [  12,    2],\n",
       "       [  10,    0],\n",
       "       [  38,    2],\n",
       "       [ 709,   16],\n",
       "       [ 989,   39],\n",
       "       [ 124,    5],\n",
       "       [ 961,   40],\n",
       "       [   5,    1],\n",
       "       [ 162,   10],\n",
       "       [  77,    6],\n",
       "       [   0,    1],\n",
       "       [  36,    2],\n",
       "       [ 172,    7],\n",
       "       [ 236,   13],\n",
       "       [ 375,   18],\n",
       "       [2137,   54],\n",
       "       [1605,   55],\n",
       "       [  15,    2],\n",
       "       [  10,    1],\n",
       "       [  42,    4],\n",
       "       [  12,    0],\n",
       "       [   5,    0],\n",
       "       [ 296,   14],\n",
       "       [   1,    0],\n",
       "       [   0,    0],\n",
       "       [ 394,   18],\n",
       "       [ 101,    4],\n",
       "       [   8,    1],\n",
       "       [   0,    0],\n",
       "       [   3,    0],\n",
       "       [   0,    0],\n",
       "       [3737,  117],\n",
       "       [   0,    1],\n",
       "       [   3,    0],\n",
       "       [   0,    0],\n",
       "       [  20,    1],\n",
       "       [  10,    1],\n",
       "       [  69,    3],\n",
       "       [  15,    1],\n",
       "       [   0,    0],\n",
       "       [   0,    0],\n",
       "       [   0,    0],\n",
       "       [ 249,   10],\n",
       "       [   0,    1],\n",
       "       [ 169,    9],\n",
       "       [   2,    0],\n",
       "       [  47,    7],\n",
       "       [1045,   27],\n",
       "       [  22,    1],\n",
       "       [1177,   42]])"
      ]
     },
     "execution_count": 23,
     "metadata": {},
     "output_type": "execute_result"
    }
   ],
   "source": [
    "x=df.iloc[:,[5,15]].values\n",
    "x"
   ]
  },
  {
   "cell_type": "code",
   "execution_count": 24,
   "id": "ad3e8da8",
   "metadata": {},
   "outputs": [],
   "source": [
    "from sklearn.preprocessing import StandardScaler"
   ]
  },
  {
   "cell_type": "code",
   "execution_count": 25,
   "id": "5125b1da",
   "metadata": {},
   "outputs": [
    {
     "data": {
      "text/plain": [
       "array([[-0.40369168, -0.39969382],\n",
       "       [-0.4252838 , -0.50870122],\n",
       "       [-0.4268261 , -0.50870122],\n",
       "       [-0.42065692, -0.50870122],\n",
       "       [-0.1754321 , -0.18167901],\n",
       "       [-0.41140315, -0.45419752],\n",
       "       [-0.4268261 , -0.50870122],\n",
       "       [-0.36050743, -0.45419752],\n",
       "       [-0.4268261 , -0.50870122],\n",
       "       [-0.37284579, -0.39969382],\n",
       "       [-0.41448774, -0.39969382],\n",
       "       [-0.41911462, -0.39969382],\n",
       "       [-0.34508449, -0.45419752],\n",
       "       [-0.41911462, -0.45419752],\n",
       "       [-0.4268261 , -0.45419752],\n",
       "       [-0.4252838 , -0.50870122],\n",
       "       [ 2.28606985,  2.92503201],\n",
       "       [ 2.06706404,  1.83495797],\n",
       "       [-0.39289562, -0.45419752],\n",
       "       [-0.37901497, -0.45419752],\n",
       "       [-0.26488518, -0.18167901],\n",
       "       [-0.21861634, -0.0726716 ],\n",
       "       [ 1.01059234,  1.34442465],\n",
       "       [-0.26025829, -0.0726716 ],\n",
       "       [ 0.02506618, -0.1271753 ],\n",
       "       [ 0.41063979,  0.47236542],\n",
       "       [ 1.16173719,  1.23541725],\n",
       "       [-0.22170093, -0.29068641],\n",
       "       [ 0.27800247,  0.52686912],\n",
       "       [-0.23866617, -0.18167901],\n",
       "       [-0.4268261 , -0.50870122],\n",
       "       [ 0.60959578,  0.69038023],\n",
       "       [-0.4268261 , -0.50870122],\n",
       "       [-0.4268261 , -0.50870122],\n",
       "       [-0.40677627, -0.39969382],\n",
       "       [ 5.29817091,  3.47006903],\n",
       "       [-0.36050743, -0.45419752],\n",
       "       [-0.4252838 , -0.50870122],\n",
       "       [-0.33120384, -0.0726716 ],\n",
       "       [-0.41603003, -0.34519011],\n",
       "       [-0.29264648, -0.39969382],\n",
       "       [-0.4268261 , -0.50870122],\n",
       "       [-0.4268261 , -0.45419752],\n",
       "       [-0.4268261 , -0.50870122],\n",
       "       [-0.41911462, -0.45419752],\n",
       "       [-0.36821891, -0.45419752],\n",
       "       [-0.4268261 , -0.50870122],\n",
       "       [-0.4268261 , -0.50870122],\n",
       "       [-0.38364185, -0.23618271],\n",
       "       [-0.40831856, -0.39969382],\n",
       "       [-0.41140315, -0.50870122],\n",
       "       [-0.36821891, -0.39969382],\n",
       "       [ 0.66666067,  0.36335801],\n",
       "       [ 1.09850312,  1.61694316],\n",
       "       [-0.23558158, -0.23618271],\n",
       "       [ 1.05531887,  1.67144686],\n",
       "       [-0.41911462, -0.45419752],\n",
       "       [-0.17697439,  0.0363358 ],\n",
       "       [-0.30806942, -0.18167901],\n",
       "       [-0.4268261 , -0.45419752],\n",
       "       [-0.37130349, -0.39969382],\n",
       "       [-0.16155145, -0.1271753 ],\n",
       "       [-0.0628446 ,  0.19984691],\n",
       "       [ 0.15153432,  0.47236542],\n",
       "       [ 2.86905715,  2.43449869],\n",
       "       [ 2.0485565 ,  2.4890024 ],\n",
       "       [-0.40369168, -0.39969382],\n",
       "       [-0.41140315, -0.45419752],\n",
       "       [-0.36204973, -0.29068641],\n",
       "       [-0.40831856, -0.50870122],\n",
       "       [-0.41911462, -0.50870122],\n",
       "       [ 0.02969306,  0.25435061],\n",
       "       [-0.4252838 , -0.50870122],\n",
       "       [-0.4268261 , -0.50870122],\n",
       "       [ 0.18083792,  0.47236542],\n",
       "       [-0.27105436, -0.29068641],\n",
       "       [-0.41448774, -0.45419752],\n",
       "       [-0.4268261 , -0.50870122],\n",
       "       [-0.42219921, -0.50870122],\n",
       "       [-0.4268261 , -0.50870122],\n",
       "       [ 5.33672828,  5.86823193],\n",
       "       [-0.4268261 , -0.45419752],\n",
       "       [-0.42219921, -0.50870122],\n",
       "       [-0.4268261 , -0.50870122],\n",
       "       [-0.39598021, -0.45419752],\n",
       "       [-0.41140315, -0.45419752],\n",
       "       [-0.32040778, -0.34519011],\n",
       "       [-0.40369168, -0.45419752],\n",
       "       [-0.4268261 , -0.50870122],\n",
       "       [-0.4268261 , -0.50870122],\n",
       "       [-0.4268261 , -0.50870122],\n",
       "       [-0.04279478,  0.0363358 ],\n",
       "       [-0.4268261 , -0.45419752],\n",
       "       [-0.16617833, -0.0181679 ],\n",
       "       [-0.42374151, -0.50870122],\n",
       "       [-0.35433826, -0.1271753 ],\n",
       "       [ 1.18487161,  0.96289874],\n",
       "       [-0.39289562, -0.45419752],\n",
       "       [ 1.38845448,  1.78045427]])"
      ]
     },
     "execution_count": 25,
     "metadata": {},
     "output_type": "execute_result"
    }
   ],
   "source": [
    "x=StandardScaler().fit_transform(x)\n",
    "x"
   ]
  },
  {
   "cell_type": "code",
   "execution_count": 26,
   "id": "f3c8a3a2",
   "metadata": {},
   "outputs": [
    {
     "data": {
      "text/plain": [
       "array([ 7.5 ,  0.  ,  0.  ,  0.  , 27.16, 10.  ,  0.  , 43.  ,  0.  ,\n",
       "       17.5 ,  4.  ,  2.5 , 53.  ,  5.  ,  0.  ,  0.  , 27.92, 37.6 ,\n",
       "       22.  , 31.  , 17.5 , 16.87, 27.41, 13.5 , 41.85, 30.16, 32.18,\n",
       "       33.25, 24.05, 20.33,  0.  , 30.54,  0.  ,  0.  ,  6.5 , 50.84,\n",
       "       43.  ,  0.  ,  7.75,  2.33, 43.5 ,  0.  ,  0.  ,  0.  ,  5.  ,\n",
       "       38.  ,  0.  ,  0.  ,  5.6 ,  6.  ,  0.  , 19.  , 44.31, 25.35,\n",
       "       24.8 , 24.02,  5.  , 16.2 , 12.83,  0.  , 18.  , 24.57, 18.15,\n",
       "       20.83, 39.57, 29.18,  7.5 , 10.  , 10.5 ,  0.  ,  0.  , 21.14,\n",
       "        0.  ,  0.  , 21.88, 25.25,  8.  ,  0.  ,  0.  ,  0.  , 31.94,\n",
       "        0.  ,  0.  ,  0.  , 20.  , 10.  , 23.  , 15.  ,  0.  ,  0.  ,\n",
       "        0.  , 24.9 ,  0.  , 18.77,  0.  ,  6.71, 38.7 , 22.  , 28.02])"
      ]
     },
     "execution_count": 26,
     "metadata": {},
     "output_type": "execute_result"
    }
   ],
   "source": [
    "y=df.iloc[:,7].values\n",
    "y"
   ]
  },
  {
   "cell_type": "code",
   "execution_count": 27,
   "id": "33711f86",
   "metadata": {},
   "outputs": [],
   "source": [
    "from sklearn.model_selection import train_test_split\n",
    "x_train,x_test,y_train,y_test=train_test_split(x,y,random_state=0,test_size=0.3)"
   ]
  },
  {
   "cell_type": "code",
   "execution_count": 28,
   "id": "6ecde195",
   "metadata": {},
   "outputs": [
    {
     "data": {
      "text/plain": [
       "array([[-0.37130349, -0.39969382],\n",
       "       [ 5.33672828,  5.86823193],\n",
       "       [-0.4268261 , -0.50870122],\n",
       "       [-0.36204973, -0.29068641],\n",
       "       [-0.36821891, -0.39969382],\n",
       "       [-0.22170093, -0.29068641],\n",
       "       [-0.39289562, -0.45419752],\n",
       "       [-0.41911462, -0.45419752],\n",
       "       [ 0.15153432,  0.47236542],\n",
       "       [ 0.18083792,  0.47236542],\n",
       "       [-0.4252838 , -0.50870122],\n",
       "       [-0.16155145, -0.1271753 ],\n",
       "       [-0.4268261 , -0.45419752],\n",
       "       [-0.4268261 , -0.50870122],\n",
       "       [-0.1754321 , -0.18167901],\n",
       "       [-0.4252838 , -0.50870122],\n",
       "       [ 2.06706404,  1.83495797],\n",
       "       [-0.29264648, -0.39969382],\n",
       "       [-0.33120384, -0.0726716 ],\n",
       "       [-0.41140315, -0.45419752],\n",
       "       [-0.4268261 , -0.50870122],\n",
       "       [-0.4268261 , -0.45419752],\n",
       "       [-0.40369168, -0.39969382],\n",
       "       [-0.40677627, -0.39969382],\n",
       "       [ 0.27800247,  0.52686912],\n",
       "       [-0.41140315, -0.50870122],\n",
       "       [-0.41911462, -0.39969382],\n",
       "       [ 5.29817091,  3.47006903],\n",
       "       [-0.26025829, -0.0726716 ],\n",
       "       [ 0.66666067,  0.36335801],\n",
       "       [-0.41448774, -0.39969382],\n",
       "       [ 0.60959578,  0.69038023],\n",
       "       [-0.40369168, -0.39969382],\n",
       "       [-0.17697439,  0.0363358 ],\n",
       "       [-0.4268261 , -0.50870122],\n",
       "       [-0.41140315, -0.45419752],\n",
       "       [-0.4268261 , -0.50870122],\n",
       "       [-0.39598021, -0.45419752],\n",
       "       [-0.4268261 , -0.45419752],\n",
       "       [-0.4268261 , -0.50870122],\n",
       "       [-0.37901497, -0.45419752],\n",
       "       [-0.23866617, -0.18167901],\n",
       "       [-0.40831856, -0.39969382],\n",
       "       [ 1.18487161,  0.96289874],\n",
       "       [-0.39289562, -0.45419752],\n",
       "       [-0.40831856, -0.50870122],\n",
       "       [-0.26488518, -0.18167901],\n",
       "       [-0.16617833, -0.0181679 ],\n",
       "       [-0.4252838 , -0.50870122],\n",
       "       [-0.4268261 , -0.50870122],\n",
       "       [ 0.41063979,  0.47236542],\n",
       "       [-0.4252838 , -0.50870122],\n",
       "       [-0.4268261 , -0.45419752],\n",
       "       [-0.4268261 , -0.50870122],\n",
       "       [-0.41603003, -0.34519011],\n",
       "       [ 2.0485565 ,  2.4890024 ],\n",
       "       [-0.30806942, -0.18167901],\n",
       "       [-0.34508449, -0.45419752],\n",
       "       [-0.41911462, -0.50870122],\n",
       "       [-0.40369168, -0.45419752],\n",
       "       [-0.36050743, -0.45419752],\n",
       "       [-0.21861634, -0.0726716 ],\n",
       "       [-0.4268261 , -0.50870122],\n",
       "       [-0.37284579, -0.39969382],\n",
       "       [-0.35433826, -0.1271753 ],\n",
       "       [-0.41140315, -0.45419752],\n",
       "       [ 2.86905715,  2.43449869],\n",
       "       [-0.4268261 , -0.50870122],\n",
       "       [-0.41911462, -0.45419752]])"
      ]
     },
     "execution_count": 28,
     "metadata": {},
     "output_type": "execute_result"
    }
   ],
   "source": [
    "x_train"
   ]
  },
  {
   "cell_type": "code",
   "execution_count": 29,
   "id": "6ec5e700",
   "metadata": {},
   "outputs": [
    {
     "data": {
      "text/plain": [
       "array([[ 1.16173719,  1.23541725],\n",
       "       [-0.32040778, -0.34519011],\n",
       "       [-0.4268261 , -0.50870122],\n",
       "       [ 1.05531887,  1.67144686],\n",
       "       [-0.27105436, -0.29068641],\n",
       "       [-0.4268261 , -0.45419752],\n",
       "       [ 2.28606985,  2.92503201],\n",
       "       [-0.4268261 , -0.50870122],\n",
       "       [-0.23558158, -0.23618271],\n",
       "       [-0.42374151, -0.50870122],\n",
       "       [ 1.09850312,  1.61694316],\n",
       "       [-0.04279478,  0.0363358 ],\n",
       "       [-0.42219921, -0.50870122],\n",
       "       [-0.41911462, -0.45419752],\n",
       "       [-0.36050743, -0.45419752],\n",
       "       [-0.4268261 , -0.50870122],\n",
       "       [ 1.01059234,  1.34442465],\n",
       "       [ 0.02506618, -0.1271753 ],\n",
       "       [-0.4268261 , -0.50870122],\n",
       "       [-0.4268261 , -0.50870122],\n",
       "       [-0.4268261 , -0.50870122],\n",
       "       [-0.0628446 ,  0.19984691],\n",
       "       [-0.42065692, -0.50870122],\n",
       "       [ 0.02969306,  0.25435061],\n",
       "       [-0.36821891, -0.45419752],\n",
       "       [-0.38364185, -0.23618271],\n",
       "       [-0.4268261 , -0.50870122],\n",
       "       [ 1.38845448,  1.78045427],\n",
       "       [-0.42219921, -0.50870122],\n",
       "       [-0.41448774, -0.45419752]])"
      ]
     },
     "execution_count": 29,
     "metadata": {},
     "output_type": "execute_result"
    }
   ],
   "source": [
    "x_test"
   ]
  },
  {
   "cell_type": "code",
   "execution_count": 30,
   "id": "614caefe",
   "metadata": {},
   "outputs": [
    {
     "data": {
      "text/plain": [
       "array([18.  , 31.94,  0.  , 10.5 , 19.  , 33.25, 22.  ,  5.  , 20.83,\n",
       "       21.88,  0.  , 24.57,  0.  ,  0.  , 27.16,  0.  , 37.6 , 43.5 ,\n",
       "        7.75, 10.  ,  0.  ,  0.  ,  7.5 ,  6.5 , 24.05,  0.  ,  2.5 ,\n",
       "       50.84, 13.5 , 44.31,  4.  , 30.54,  7.5 , 16.2 ,  0.  , 10.  ,\n",
       "        0.  , 20.  ,  0.  ,  0.  , 31.  , 20.33,  6.  , 38.7 , 22.  ,\n",
       "        0.  , 17.5 , 18.77,  0.  ,  0.  , 30.16,  0.  ,  0.  ,  0.  ,\n",
       "        2.33, 29.18, 12.83, 53.  ,  0.  , 15.  , 43.  , 16.87,  0.  ,\n",
       "       17.5 ,  6.71, 10.  , 39.57,  0.  ,  5.  ])"
      ]
     },
     "execution_count": 30,
     "metadata": {},
     "output_type": "execute_result"
    }
   ],
   "source": [
    "y_train"
   ]
  },
  {
   "cell_type": "code",
   "execution_count": 31,
   "id": "66e017a7",
   "metadata": {},
   "outputs": [
    {
     "data": {
      "text/plain": [
       "array([32.18, 23.  ,  0.  , 24.02, 25.25,  0.  , 27.92,  0.  , 24.8 ,\n",
       "        0.  , 25.35, 24.9 ,  0.  ,  5.  , 43.  ,  0.  , 27.41, 41.85,\n",
       "        0.  ,  0.  ,  0.  , 18.15,  0.  , 21.14, 38.  ,  5.6 ,  0.  ,\n",
       "       28.02,  0.  ,  8.  ])"
      ]
     },
     "execution_count": 31,
     "metadata": {},
     "output_type": "execute_result"
    }
   ],
   "source": [
    "y_test"
   ]
  },
  {
   "cell_type": "code",
   "execution_count": 32,
   "id": "8861f5f8",
   "metadata": {},
   "outputs": [],
   "source": [
    "from sklearn.linear_model import LinearRegression\n",
    "from sklearn.tree import DecisionTreeRegressor\n",
    "from sklearn.ensemble import RandomForestRegressor"
   ]
  },
  {
   "cell_type": "markdown",
   "id": "6c16ef1a",
   "metadata": {},
   "source": [
    "LINEAR REGRESSION ALGORITHM"
   ]
  },
  {
   "cell_type": "code",
   "execution_count": 33,
   "id": "58d2fd0d",
   "metadata": {},
   "outputs": [],
   "source": [
    "model_LR=LinearRegression().fit(x_train,y_train)"
   ]
  },
  {
   "cell_type": "code",
   "execution_count": 34,
   "id": "9056c4d1",
   "metadata": {},
   "outputs": [],
   "source": [
    "y_pred_LR=model_LR.predict(x_test)"
   ]
  },
  {
   "cell_type": "code",
   "execution_count": 35,
   "id": "831fd347",
   "metadata": {},
   "outputs": [
    {
     "data": {
      "text/plain": [
       "array([22.58183468, 12.293859  , 11.69661925, 20.28941111, 12.63114274,\n",
       "       11.54251163, 28.99900779, 11.69661925, 12.83022265, 11.72733121,\n",
       "       20.87348617, 13.97918204, 11.74268719, 11.61929153, 12.20281877,\n",
       "       11.69661925, 20.76873341, 15.11716801, 11.69661925, 11.69661925,\n",
       "       11.69661925, 13.31723144, 11.75804317, 14.08448261, 12.12603887,\n",
       "       11.35604859, 11.69661925, 23.29808752, 11.74268719, 11.66535947])"
      ]
     },
     "execution_count": 35,
     "metadata": {},
     "output_type": "execute_result"
    }
   ],
   "source": [
    "y_pred_LR"
   ]
  },
  {
   "cell_type": "code",
   "execution_count": 36,
   "id": "c8b36b39",
   "metadata": {},
   "outputs": [],
   "source": [
    "from sklearn import metrics"
   ]
  },
  {
   "cell_type": "code",
   "execution_count": 37,
   "id": "54aa0e08",
   "metadata": {},
   "outputs": [
    {
     "name": "stdout",
     "output_type": "stream",
     "text": [
      "Mean_absolute_error:  10.939520116497011\n",
      "Mean_squared_error:  162.28682992899456\n",
      "Root_mean_squared_error:  12.739184821996837\n"
     ]
    }
   ],
   "source": [
    "print('Mean_absolute_error: ',metrics.mean_absolute_error(y_test,y_pred_LR))\n",
    "print(\"Mean_squared_error: \",metrics.mean_squared_error(y_test,y_pred_LR))\n",
    "print('Root_mean_squared_error: ',np.sqrt(metrics.mean_squared_error(y_test,y_pred_LR)))"
   ]
  },
  {
   "cell_type": "code",
   "execution_count": 38,
   "id": "2ab99ce2",
   "metadata": {},
   "outputs": [],
   "source": [
    "from sklearn.metrics import r2_score"
   ]
  },
  {
   "cell_type": "code",
   "execution_count": 39,
   "id": "a6c763dd",
   "metadata": {},
   "outputs": [],
   "source": [
    "r2_LR=r2_score(y_test,y_pred_LR)"
   ]
  },
  {
   "cell_type": "code",
   "execution_count": 40,
   "id": "791d15b3",
   "metadata": {},
   "outputs": [
    {
     "name": "stdout",
     "output_type": "stream",
     "text": [
      "r2 score for linear regression model is 0.2338621780685568\n"
     ]
    }
   ],
   "source": [
    "print('r2 score for linear regression model is',r2_LR)"
   ]
  },
  {
   "cell_type": "code",
   "execution_count": null,
   "id": "feb55e45",
   "metadata": {},
   "outputs": [],
   "source": []
  },
  {
   "cell_type": "markdown",
   "id": "91a7e937",
   "metadata": {},
   "source": [
    "DECISION TREE REGRESSOR ALGORITHM"
   ]
  },
  {
   "cell_type": "code",
   "execution_count": 41,
   "id": "7ca61300",
   "metadata": {},
   "outputs": [],
   "source": [
    "model_DT=DecisionTreeRegressor().fit(x_train,y_train)"
   ]
  },
  {
   "cell_type": "code",
   "execution_count": 42,
   "id": "4cfff614",
   "metadata": {},
   "outputs": [],
   "source": [
    "y_pred_DT=model_DT.predict(x_test)"
   ]
  },
  {
   "cell_type": "code",
   "execution_count": 43,
   "id": "18449b92",
   "metadata": {},
   "outputs": [
    {
     "data": {
      "text/plain": [
       "array([38.7 , 10.5 ,  0.  , 37.6 , 33.25,  0.  , 29.18,  0.  , 33.25,\n",
       "        0.  , 37.6 , 18.77,  0.  ,  5.  , 43.  ,  0.  , 38.7 , 24.57,\n",
       "        0.  ,  0.  ,  0.  , 18.77,  0.  , 20.83, 43.  , 17.5 ,  0.  ,\n",
       "       37.6 ,  0.  , 10.  ])"
      ]
     },
     "execution_count": 43,
     "metadata": {},
     "output_type": "execute_result"
    }
   ],
   "source": [
    "y_pred_DT"
   ]
  },
  {
   "cell_type": "code",
   "execution_count": 44,
   "id": "bf34f597",
   "metadata": {},
   "outputs": [
    {
     "name": "stdout",
     "output_type": "stream",
     "text": [
      "Mean_absolute_error:  4.222333333333333\n",
      "Mean_squared_error:  46.557856666666666\n",
      "Root_mean_squared_error:  6.8233317863538385\n"
     ]
    }
   ],
   "source": [
    "print('Mean_absolute_error: ',metrics.mean_absolute_error(y_test,y_pred_DT))\n",
    "print(\"Mean_squared_error: \",metrics.mean_squared_error(y_test,y_pred_DT))\n",
    "print('Root_mean_squared_error: ',np.sqrt(metrics.mean_squared_error(y_test,y_pred_DT)))"
   ]
  },
  {
   "cell_type": "code",
   "execution_count": 45,
   "id": "3c85a00d",
   "metadata": {},
   "outputs": [],
   "source": [
    "r2_DT=r2_score(y_test,y_pred_DT)"
   ]
  },
  {
   "cell_type": "code",
   "execution_count": 46,
   "id": "fc25649b",
   "metadata": {},
   "outputs": [
    {
     "name": "stdout",
     "output_type": "stream",
     "text": [
      "r2 score for DecisionTreeRegressor model is 0.7802056093152913\n"
     ]
    }
   ],
   "source": [
    "print('r2 score for DecisionTreeRegressor model is',r2_DT)"
   ]
  },
  {
   "cell_type": "markdown",
   "id": "22a2e259",
   "metadata": {},
   "source": [
    "RANDOM FOREST REGRESSOR ALGORITHM"
   ]
  },
  {
   "cell_type": "code",
   "execution_count": 47,
   "id": "174662da",
   "metadata": {},
   "outputs": [],
   "source": [
    "model_RF=RandomForestRegressor().fit(x_train,y_train)"
   ]
  },
  {
   "cell_type": "code",
   "execution_count": 48,
   "id": "fadc3487",
   "metadata": {},
   "outputs": [],
   "source": [
    "y_pred_RF=model_RF.predict(x_test)"
   ]
  },
  {
   "cell_type": "code",
   "execution_count": 49,
   "id": "ef2dc674",
   "metadata": {},
   "outputs": [
    {
     "data": {
      "text/plain": [
       "array([37.7661, 31.5091,  0.    , 37.3217, 24.5176,  0.1   , 34.6485,\n",
       "        0.    , 26.3147,  0.    , 37.3217, 21.5174,  0.    ,  4.5133,\n",
       "       36.3242,  0.    , 37.7661, 23.2764,  0.    ,  0.    ,  0.    ,\n",
       "       20.5487,  0.35  , 20.9907, 30.43  , 14.6886,  0.    , 36.5213,\n",
       "        0.    ,  4.943 ])"
      ]
     },
     "execution_count": 49,
     "metadata": {},
     "output_type": "execute_result"
    }
   ],
   "source": [
    "y_pred_RF"
   ]
  },
  {
   "cell_type": "code",
   "execution_count": 50,
   "id": "f4da5348",
   "metadata": {},
   "outputs": [
    {
     "name": "stdout",
     "output_type": "stream",
     "text": [
      "Mean_absolute_error:  3.9677966666666578\n",
      "Mean_squared_error:  40.262520006333155\n",
      "Root_mean_squared_error:  6.345275408233527\n"
     ]
    }
   ],
   "source": [
    "print('Mean_absolute_error: ',metrics.mean_absolute_error(y_test,y_pred_RF))\n",
    "print(\"Mean_squared_error: \",metrics.mean_squared_error(y_test,y_pred_RF))\n",
    "print('Root_mean_squared_error: ',np.sqrt(metrics.mean_squared_error(y_test,y_pred_RF)))"
   ]
  },
  {
   "cell_type": "code",
   "execution_count": 51,
   "id": "26a63938",
   "metadata": {},
   "outputs": [],
   "source": [
    "r2_RF=r2_score(y_test,y_pred_RF)"
   ]
  },
  {
   "cell_type": "code",
   "execution_count": 52,
   "id": "6670ef29",
   "metadata": {},
   "outputs": [
    {
     "name": "stdout",
     "output_type": "stream",
     "text": [
      "r2 score for RandomForestRegressor model is 0.8099251837218117\n"
     ]
    }
   ],
   "source": [
    "print('r2 score for RandomForestRegressor model is',r2_RF)"
   ]
  },
  {
   "cell_type": "code",
   "execution_count": 53,
   "id": "688fc3c7",
   "metadata": {},
   "outputs": [
    {
     "data": {
      "image/png": "[encoded data removed]",
      "text/plain": [
       "<Figure size 648x432 with 1 Axes>"
      ]
     },
     "metadata": {
      "needs_background": "light"
     },
     "output_type": "display_data"
    }
   ],
   "source": [
    "data_ave=[r2_LR,r2_DT,r2_RF]\n",
    "data_labels_ave=[\"r2_LR\",\"r2_DT\",\"r2_RF\"]\n",
    "plt.figure(figsize=(9,6))\n",
    "plt.bar(data_labels_ave,data_ave)\n",
    "plt.title(\"R2 values among three Regressor models\")\n",
    "plt.show()"
   ]
  },
  {
   "cell_type": "markdown",
   "id": "ac45c95a",
   "metadata": {},
   "source": [
    "WHEN COMPARING ALL THREE REGRESSION MODELS. THE RANDOM FOREST REGRESSOR HAD HIGHEST R2 VALUE,SO IT IS THE BEST FIT REGRESSION MODEL FOR THIS DATASET"
   ]
  },
  {
   "cell_type": "markdown",
   "id": "aa833d42",
   "metadata": {},
   "source": [
    "NOW CALCULATING THE STRIKE RATE OF A BATSMAN"
   ]
  },
  {
   "cell_type": "code",
   "execution_count": 54,
   "id": "b8482f42",
   "metadata": {},
   "outputs": [
    {
     "data": {
      "text/html": [
       "<div>\n",
       "<style scoped>\n",
       "    .dataframe tbody tr th:only-of-type {\n",
       "        vertical-align: middle;\n",
       "    }\n",
       "\n",
       "    .dataframe tbody tr th {\n",
       "        vertical-align: top;\n",
       "    }\n",
       "\n",
       "    .dataframe thead th {\n",
       "        text-align: right;\n",
       "    }\n",
       "</style>\n",
       "<table border=\"1\" class=\"dataframe\">\n",
       "  <thead>\n",
       "    <tr style=\"text-align: right;\">\n",
       "      <th></th>\n",
       "      <th>Player</th>\n",
       "      <th>Span</th>\n",
       "      <th>Mat</th>\n",
       "      <th>Inns</th>\n",
       "      <th>NO</th>\n",
       "      <th>Runs</th>\n",
       "      <th>HS</th>\n",
       "      <th>Ave</th>\n",
       "      <th>BF</th>\n",
       "      <th>SR</th>\n",
       "      <th>100</th>\n",
       "      <th>50</th>\n",
       "      <th>0</th>\n",
       "      <th>4s</th>\n",
       "      <th>6s</th>\n",
       "      <th>Got_Out</th>\n",
       "    </tr>\n",
       "  </thead>\n",
       "  <tbody>\n",
       "    <tr>\n",
       "      <th>0</th>\n",
       "      <td>AB Agarkar</td>\n",
       "      <td>2006-2007</td>\n",
       "      <td>4</td>\n",
       "      <td>2</td>\n",
       "      <td>0</td>\n",
       "      <td>15</td>\n",
       "      <td>14</td>\n",
       "      <td>7.50</td>\n",
       "      <td>11</td>\n",
       "      <td>136.36</td>\n",
       "      <td>0</td>\n",
       "      <td>0</td>\n",
       "      <td>0</td>\n",
       "      <td>2</td>\n",
       "      <td>0</td>\n",
       "      <td>2</td>\n",
       "    </tr>\n",
       "    <tr>\n",
       "      <th>1</th>\n",
       "      <td>KK Ahmed</td>\n",
       "      <td>2018-2019</td>\n",
       "      <td>14</td>\n",
       "      <td>1</td>\n",
       "      <td>1</td>\n",
       "      <td>1</td>\n",
       "      <td>1</td>\n",
       "      <td>0.00</td>\n",
       "      <td>1</td>\n",
       "      <td>100.00</td>\n",
       "      <td>0</td>\n",
       "      <td>0</td>\n",
       "      <td>0</td>\n",
       "      <td>0</td>\n",
       "      <td>0</td>\n",
       "      <td>0</td>\n",
       "    </tr>\n",
       "    <tr>\n",
       "      <th>2</th>\n",
       "      <td>S Aravind</td>\n",
       "      <td>2015-2015</td>\n",
       "      <td>1</td>\n",
       "      <td>0</td>\n",
       "      <td>0</td>\n",
       "      <td>0</td>\n",
       "      <td>0</td>\n",
       "      <td>0.00</td>\n",
       "      <td>0</td>\n",
       "      <td>0.00</td>\n",
       "      <td>0</td>\n",
       "      <td>0</td>\n",
       "      <td>0</td>\n",
       "      <td>0</td>\n",
       "      <td>0</td>\n",
       "      <td>0</td>\n",
       "    </tr>\n",
       "    <tr>\n",
       "      <th>3</th>\n",
       "      <td>Arshdeep Singh</td>\n",
       "      <td>2022-2022</td>\n",
       "      <td>13</td>\n",
       "      <td>3</td>\n",
       "      <td>3</td>\n",
       "      <td>4</td>\n",
       "      <td>2</td>\n",
       "      <td>0.00</td>\n",
       "      <td>3</td>\n",
       "      <td>133.33</td>\n",
       "      <td>0</td>\n",
       "      <td>0</td>\n",
       "      <td>0</td>\n",
       "      <td>0</td>\n",
       "      <td>0</td>\n",
       "      <td>0</td>\n",
       "    </tr>\n",
       "    <tr>\n",
       "      <th>4</th>\n",
       "      <td>R Ashwin</td>\n",
       "      <td>2010-2022</td>\n",
       "      <td>59</td>\n",
       "      <td>15</td>\n",
       "      <td>9</td>\n",
       "      <td>163</td>\n",
       "      <td>31</td>\n",
       "      <td>27.16</td>\n",
       "      <td>142</td>\n",
       "      <td>114.78</td>\n",
       "      <td>0</td>\n",
       "      <td>0</td>\n",
       "      <td>0</td>\n",
       "      <td>16</td>\n",
       "      <td>3</td>\n",
       "      <td>6</td>\n",
       "    </tr>\n",
       "  </tbody>\n",
       "</table>\n",
       "</div>"
      ],
      "text/plain": [
       "           Player       Span  Mat  Inns  NO  Runs  HS    Ave   BF      SR  \\\n",
       "0      AB Agarkar  2006-2007    4     2   0    15  14   7.50   11  136.36   \n",
       "1        KK Ahmed  2018-2019   14     1   1     1   1   0.00    1  100.00   \n",
       "2       S Aravind  2015-2015    1     0   0     0   0   0.00    0    0.00   \n",
       "3  Arshdeep Singh  2022-2022   13     3   3     4   2   0.00    3  133.33   \n",
       "4        R Ashwin  2010-2022   59    15   9   163  31  27.16  142  114.78   \n",
       "\n",
       "   100  50  0  4s  6s  Got_Out  \n",
       "0    0   0  0   2   0        2  \n",
       "1    0   0  0   0   0        0  \n",
       "2    0   0  0   0   0        0  \n",
       "3    0   0  0   0   0        0  \n",
       "4    0   0  0  16   3        6  "
      ]
     },
     "execution_count": 54,
     "metadata": {},
     "output_type": "execute_result"
    }
   ],
   "source": [
    "df.head()"
   ]
  },
  {
   "cell_type": "code",
   "execution_count": 55,
   "id": "0370e1ad",
   "metadata": {},
   "outputs": [
    {
     "data": {
      "text/plain": [
       "array([[  15,   11],\n",
       "       [   1,    1],\n",
       "       [   0,    0],\n",
       "       [   4,    3],\n",
       "       [ 163,  142],\n",
       "       [  10,    7],\n",
       "       [   0,    0],\n",
       "       [  43,   37],\n",
       "       [   0,    0],\n",
       "       [  35,   29],\n",
       "       [   8,   13],\n",
       "       [   5,   11],\n",
       "       [  53,   26],\n",
       "       [   5,    5],\n",
       "       [   0,    1],\n",
       "       [   1,    2],\n",
       "       [1759, 1392],\n",
       "       [1617, 1282],\n",
       "       [  22,   24],\n",
       "       [  31,   21],\n",
       "       [ 105,   77],\n",
       "       [ 135,  109],\n",
       "       [ 932,  783],\n",
       "       [ 108,   87],\n",
       "       [ 293,  188],\n",
       "       [ 543,  414],\n",
       "       [1030,  757],\n",
       "       [ 133,   82],\n",
       "       [ 457,  367],\n",
       "       [ 122,   99],\n",
       "       [   0,    0],\n",
       "       [ 672,  454],\n",
       "       [   0,    0],\n",
       "       [   0,    0],\n",
       "       [  13,   10],\n",
       "       [3712, 2688],\n",
       "       [  43,   48],\n",
       "       [   1,    1],\n",
       "       [  62,   87],\n",
       "       [   7,   16],\n",
       "       [  87,   73],\n",
       "       [   0,    0],\n",
       "       [   0,    0],\n",
       "       [   0,    0],\n",
       "       [   5,    7],\n",
       "       [  38,   45],\n",
       "       [   0,    0],\n",
       "       [   0,    0],\n",
       "       [  28,   39],\n",
       "       [  12,   27],\n",
       "       [  10,    6],\n",
       "       [  38,   38],\n",
       "       [ 709,  562],\n",
       "       [ 989,  666],\n",
       "       [ 124,   95],\n",
       "       [ 961,  754],\n",
       "       [   5,    6],\n",
       "       [ 162,  120],\n",
       "       [  77,   57],\n",
       "       [   0,    1],\n",
       "       [  36,   32],\n",
       "       [ 172,  144],\n",
       "       [ 236,  161],\n",
       "       [ 375,  331],\n",
       "       [2137, 1522],\n",
       "       [1605, 1190],\n",
       "       [  15,   27],\n",
       "       [  10,    4],\n",
       "       [  42,   50],\n",
       "       [  12,   11],\n",
       "       [   5,    9],\n",
       "       [ 296,  219],\n",
       "       [   1,    1],\n",
       "       [   0,    0],\n",
       "       [ 394,  271],\n",
       "       [ 101,   73],\n",
       "       [   8,    9],\n",
       "       [   0,    0],\n",
       "       [   3,    7],\n",
       "       [   0,    0],\n",
       "       [3737, 2658],\n",
       "       [   0,    1],\n",
       "       [   3,    3],\n",
       "       [   0,    0],\n",
       "       [  20,   14],\n",
       "       [  10,   12],\n",
       "       [  69,   38],\n",
       "       [  15,   17],\n",
       "       [   0,    0],\n",
       "       [   0,    0],\n",
       "       [   0,    0],\n",
       "       [ 249,  211],\n",
       "       [   0,    2],\n",
       "       [ 169,  154],\n",
       "       [   2,    4],\n",
       "       [  47,   32],\n",
       "       [1045,  591],\n",
       "       [  22,   21],\n",
       "       [1177,  863]])"
      ]
     },
     "execution_count": 55,
     "metadata": {},
     "output_type": "execute_result"
    }
   ],
   "source": [
    "X=df.iloc[:,[5,8]].values\n",
    "X"
   ]
  },
  {
   "cell_type": "code",
   "execution_count": 56,
   "id": "db84447f",
   "metadata": {},
   "outputs": [
    {
     "data": {
      "text/plain": [
       "array([136.36, 100.  ,   0.  , 133.33, 114.78, 142.85,   0.  , 116.21,\n",
       "         0.  , 120.68,  61.53,  45.45, 203.84, 100.  ,   0.  ,  50.  ,\n",
       "       126.36, 126.13,  91.66, 147.61, 136.36, 123.85, 119.02, 124.13,\n",
       "       155.85, 131.15, 136.06, 162.19, 124.52, 123.23,   0.  , 148.01,\n",
       "         0.  ,   0.  , 130.  , 138.09,  89.58, 100.  ,  71.26,  43.75,\n",
       "       119.17,   0.  ,   0.  ,   0.  ,  71.42,  84.44,   0.  ,   0.  ,\n",
       "        71.79,  44.44, 166.66, 100.  , 126.15, 148.49, 130.52, 127.45,\n",
       "        83.33, 135.  , 135.08,   0.  , 112.5 , 119.44, 146.58, 113.29,\n",
       "       140.4 , 134.87,  55.55, 250.  ,  84.  , 109.09,  55.55, 135.15,\n",
       "       100.  ,   0.  , 145.38, 138.35,  88.88,   0.  ,  42.85,   0.  ,\n",
       "       140.59,   0.  , 100.  ,   0.  , 142.85,  83.33, 181.57,  88.23,\n",
       "         0.  ,   0.  ,   0.  , 118.  ,   0.  , 109.74,  50.  , 146.87,\n",
       "       176.81, 104.76, 136.38])"
      ]
     },
     "execution_count": 56,
     "metadata": {},
     "output_type": "execute_result"
    }
   ],
   "source": [
    "Y=df.iloc[:,9].values\n",
    "Y"
   ]
  },
  {
   "cell_type": "code",
   "execution_count": 57,
   "id": "9b3ea195",
   "metadata": {},
   "outputs": [
    {
     "data": {
      "text/plain": [
       "array([[-0.40369168, -0.41481979],\n",
       "       [-0.4252838 , -0.43602888],\n",
       "       [-0.4268261 , -0.43814979],\n",
       "       [-0.42065692, -0.43178706],\n",
       "       [-0.1754321 , -0.13698072],\n",
       "       [-0.41140315, -0.42330343],\n",
       "       [-0.4268261 , -0.43814979],\n",
       "       [-0.36050743, -0.35967616],\n",
       "       [-0.4268261 , -0.43814979],\n",
       "       [-0.37284579, -0.37664343],\n",
       "       [-0.41448774, -0.41057798],\n",
       "       [-0.41911462, -0.41481979],\n",
       "       [-0.34508449, -0.38300616],\n",
       "       [-0.41911462, -0.42754525],\n",
       "       [-0.4268261 , -0.43602888],\n",
       "       [-0.4252838 , -0.43390797],\n",
       "       [ 2.28606985,  2.51415543],\n",
       "       [ 2.06706404,  2.28085545],\n",
       "       [-0.39289562, -0.38724798],\n",
       "       [-0.37901497, -0.3936107 ],\n",
       "       [-0.26488518, -0.2748398 ],\n",
       "       [-0.21861634, -0.20697072],\n",
       "       [ 1.01059234,  1.2225219 ],\n",
       "       [-0.26025829, -0.25363071],\n",
       "       [ 0.02506618, -0.03941891],\n",
       "       [ 0.41063979,  0.4399065 ],\n",
       "       [ 1.16173719,  1.16737827],\n",
       "       [-0.22170093, -0.26423526],\n",
       "       [ 0.27800247,  0.34022378],\n",
       "       [-0.23866617, -0.22817981],\n",
       "       [-0.4268261 , -0.43814979],\n",
       "       [ 0.60959578,  0.52474286],\n",
       "       [-0.4268261 , -0.43814979],\n",
       "       [-0.4268261 , -0.43814979],\n",
       "       [-0.40677627, -0.4169407 ],\n",
       "       [ 5.29817091,  5.2628534 ],\n",
       "       [-0.36050743, -0.33634616],\n",
       "       [-0.4252838 , -0.43602888],\n",
       "       [-0.33120384, -0.25363071],\n",
       "       [-0.41603003, -0.40421525],\n",
       "       [-0.29264648, -0.28332344],\n",
       "       [-0.4268261 , -0.43814979],\n",
       "       [-0.4268261 , -0.43814979],\n",
       "       [-0.4268261 , -0.43814979],\n",
       "       [-0.41911462, -0.42330343],\n",
       "       [-0.36821891, -0.34270889],\n",
       "       [-0.4268261 , -0.43814979],\n",
       "       [-0.4268261 , -0.43814979],\n",
       "       [-0.38364185, -0.35543434],\n",
       "       [-0.40831856, -0.38088525],\n",
       "       [-0.41140315, -0.42542434],\n",
       "       [-0.36821891, -0.35755525],\n",
       "       [ 0.66666067,  0.75380103],\n",
       "       [ 1.09850312,  0.97437555],\n",
       "       [-0.23558158, -0.23666344],\n",
       "       [ 1.05531887,  1.16101554],\n",
       "       [-0.41911462, -0.42542434],\n",
       "       [-0.17697439, -0.18364072],\n",
       "       [-0.30806942, -0.31725798],\n",
       "       [-0.4268261 , -0.43602888],\n",
       "       [-0.37130349, -0.37028071],\n",
       "       [-0.16155145, -0.13273891],\n",
       "       [-0.0628446 , -0.09668345],\n",
       "       [ 0.15153432,  0.26387106],\n",
       "       [ 2.86905715,  2.78987359],\n",
       "       [ 2.0485565 ,  2.08573183],\n",
       "       [-0.40369168, -0.38088525],\n",
       "       [-0.41140315, -0.42966616],\n",
       "       [-0.36204973, -0.33210435],\n",
       "       [-0.40831856, -0.41481979],\n",
       "       [-0.41911462, -0.41906161],\n",
       "       [ 0.02969306,  0.02632926],\n",
       "       [-0.4252838 , -0.43602888],\n",
       "       [-0.4268261 , -0.43814979],\n",
       "       [ 0.18083792,  0.13661653],\n",
       "       [-0.27105436, -0.28332344],\n",
       "       [-0.41448774, -0.41906161],\n",
       "       [-0.4268261 , -0.43814979],\n",
       "       [-0.42219921, -0.42330343],\n",
       "       [-0.4268261 , -0.43814979],\n",
       "       [ 5.33672828,  5.19922613],\n",
       "       [-0.4268261 , -0.43602888],\n",
       "       [-0.42219921, -0.43178706],\n",
       "       [-0.4268261 , -0.43814979],\n",
       "       [-0.39598021, -0.40845707],\n",
       "       [-0.41140315, -0.41269888],\n",
       "       [-0.32040778, -0.35755525],\n",
       "       [-0.40369168, -0.40209434],\n",
       "       [-0.4268261 , -0.43814979],\n",
       "       [-0.4268261 , -0.43814979],\n",
       "       [-0.4268261 , -0.43814979],\n",
       "       [-0.04279478,  0.00936199],\n",
       "       [-0.4268261 , -0.43390797],\n",
       "       [-0.16617833, -0.11152982],\n",
       "       [-0.42374151, -0.42966616],\n",
       "       [-0.35433826, -0.37028071],\n",
       "       [ 1.18487161,  0.81530738],\n",
       "       [-0.39289562, -0.3936107 ],\n",
       "       [ 1.38845448,  1.39219461]])"
      ]
     },
     "execution_count": 57,
     "metadata": {},
     "output_type": "execute_result"
    }
   ],
   "source": [
    "X=StandardScaler().fit_transform(X)\n",
    "X"
   ]
  },
  {
   "cell_type": "code",
   "execution_count": 58,
   "id": "bf191fab",
   "metadata": {},
   "outputs": [],
   "source": [
    "X_train,X_test,Y_train,Y_test=train_test_split(X,Y,random_state=0,test_size=0.3)"
   ]
  },
  {
   "cell_type": "code",
   "execution_count": 59,
   "id": "64a1c21b",
   "metadata": {},
   "outputs": [
    {
     "data": {
      "text/plain": [
       "array([[-0.37130349, -0.37028071],\n",
       "       [ 5.33672828,  5.19922613],\n",
       "       [-0.4268261 , -0.43814979],\n",
       "       [-0.36204973, -0.33210435],\n",
       "       [-0.36821891, -0.35755525],\n",
       "       [-0.22170093, -0.26423526],\n",
       "       [-0.39289562, -0.38724798],\n",
       "       [-0.41911462, -0.42542434],\n",
       "       [ 0.15153432,  0.26387106],\n",
       "       [ 0.18083792,  0.13661653],\n",
       "       [-0.4252838 , -0.43602888],\n",
       "       [-0.16155145, -0.13273891],\n",
       "       [-0.4268261 , -0.43814979],\n",
       "       [-0.4268261 , -0.43814979],\n",
       "       [-0.1754321 , -0.13698072],\n",
       "       [-0.4252838 , -0.43390797],\n",
       "       [ 2.06706404,  2.28085545],\n",
       "       [-0.29264648, -0.28332344],\n",
       "       [-0.33120384, -0.25363071],\n",
       "       [-0.41140315, -0.42330343],\n",
       "       [-0.4268261 , -0.43814979],\n",
       "       [-0.4268261 , -0.43602888],\n",
       "       [-0.40369168, -0.41481979],\n",
       "       [-0.40677627, -0.4169407 ],\n",
       "       [ 0.27800247,  0.34022378],\n",
       "       [-0.41140315, -0.42542434],\n",
       "       [-0.41911462, -0.41481979],\n",
       "       [ 5.29817091,  5.2628534 ],\n",
       "       [-0.26025829, -0.25363071],\n",
       "       [ 0.66666067,  0.75380103],\n",
       "       [-0.41448774, -0.41057798],\n",
       "       [ 0.60959578,  0.52474286],\n",
       "       [-0.40369168, -0.38088525],\n",
       "       [-0.17697439, -0.18364072],\n",
       "       [-0.4268261 , -0.43814979],\n",
       "       [-0.41140315, -0.41269888],\n",
       "       [-0.4268261 , -0.43814979],\n",
       "       [-0.39598021, -0.40845707],\n",
       "       [-0.4268261 , -0.43602888],\n",
       "       [-0.4268261 , -0.43814979],\n",
       "       [-0.37901497, -0.3936107 ],\n",
       "       [-0.23866617, -0.22817981],\n",
       "       [-0.40831856, -0.38088525],\n",
       "       [ 1.18487161,  0.81530738],\n",
       "       [-0.39289562, -0.3936107 ],\n",
       "       [-0.40831856, -0.41481979],\n",
       "       [-0.26488518, -0.2748398 ],\n",
       "       [-0.16617833, -0.11152982],\n",
       "       [-0.4252838 , -0.43602888],\n",
       "       [-0.4268261 , -0.43814979],\n",
       "       [ 0.41063979,  0.4399065 ],\n",
       "       [-0.4252838 , -0.43602888],\n",
       "       [-0.4268261 , -0.43602888],\n",
       "       [-0.4268261 , -0.43814979],\n",
       "       [-0.41603003, -0.40421525],\n",
       "       [ 2.0485565 ,  2.08573183],\n",
       "       [-0.30806942, -0.31725798],\n",
       "       [-0.34508449, -0.38300616],\n",
       "       [-0.41911462, -0.41906161],\n",
       "       [-0.40369168, -0.40209434],\n",
       "       [-0.36050743, -0.33634616],\n",
       "       [-0.21861634, -0.20697072],\n",
       "       [-0.4268261 , -0.43814979],\n",
       "       [-0.37284579, -0.37664343],\n",
       "       [-0.35433826, -0.37028071],\n",
       "       [-0.41140315, -0.42966616],\n",
       "       [ 2.86905715,  2.78987359],\n",
       "       [-0.4268261 , -0.43814979],\n",
       "       [-0.41911462, -0.42330343]])"
      ]
     },
     "execution_count": 59,
     "metadata": {},
     "output_type": "execute_result"
    }
   ],
   "source": [
    "X_train"
   ]
  },
  {
   "cell_type": "code",
   "execution_count": 60,
   "id": "281d6627",
   "metadata": {},
   "outputs": [
    {
     "data": {
      "text/plain": [
       "array([[ 1.16173719,  1.16737827],\n",
       "       [-0.32040778, -0.35755525],\n",
       "       [-0.4268261 , -0.43814979],\n",
       "       [ 1.05531887,  1.16101554],\n",
       "       [-0.27105436, -0.28332344],\n",
       "       [-0.4268261 , -0.43390797],\n",
       "       [ 2.28606985,  2.51415543],\n",
       "       [-0.4268261 , -0.43814979],\n",
       "       [-0.23558158, -0.23666344],\n",
       "       [-0.42374151, -0.42966616],\n",
       "       [ 1.09850312,  0.97437555],\n",
       "       [-0.04279478,  0.00936199],\n",
       "       [-0.42219921, -0.42330343],\n",
       "       [-0.41911462, -0.42754525],\n",
       "       [-0.36050743, -0.35967616],\n",
       "       [-0.4268261 , -0.43814979],\n",
       "       [ 1.01059234,  1.2225219 ],\n",
       "       [ 0.02506618, -0.03941891],\n",
       "       [-0.4268261 , -0.43814979],\n",
       "       [-0.4268261 , -0.43814979],\n",
       "       [-0.4268261 , -0.43814979],\n",
       "       [-0.0628446 , -0.09668345],\n",
       "       [-0.42065692, -0.43178706],\n",
       "       [ 0.02969306,  0.02632926],\n",
       "       [-0.36821891, -0.34270889],\n",
       "       [-0.38364185, -0.35543434],\n",
       "       [-0.4268261 , -0.43814979],\n",
       "       [ 1.38845448,  1.39219461],\n",
       "       [-0.42219921, -0.43178706],\n",
       "       [-0.41448774, -0.41906161]])"
      ]
     },
     "execution_count": 60,
     "metadata": {},
     "output_type": "execute_result"
    }
   ],
   "source": [
    "X_test"
   ]
  },
  {
   "cell_type": "code",
   "execution_count": 61,
   "id": "2ae124ef",
   "metadata": {},
   "outputs": [
    {
     "data": {
      "text/plain": [
       "array([112.5 , 140.59,   0.  ,  84.  , 100.  , 162.19,  91.66,  83.33,\n",
       "       113.29, 145.38, 100.  , 119.44,   0.  ,   0.  , 114.78,  50.  ,\n",
       "       126.13, 119.17,  71.26, 142.85,   0.  ,   0.  , 136.36, 130.  ,\n",
       "       124.52, 166.66,  45.45, 138.09, 124.13, 126.15,  61.53, 148.01,\n",
       "        55.55, 135.  ,   0.  ,  83.33,   0.  , 142.85,   0.  ,   0.  ,\n",
       "       147.61, 123.23,  44.44, 176.81, 104.76, 109.09, 136.36, 109.74,\n",
       "       100.  ,   0.  , 131.15, 100.  ,   0.  ,   0.  ,  43.75, 134.87,\n",
       "       135.08, 203.84,  55.55,  88.23,  89.58, 123.85,   0.  , 120.68,\n",
       "       146.87, 250.  , 140.4 ,   0.  ,  71.42])"
      ]
     },
     "execution_count": 61,
     "metadata": {},
     "output_type": "execute_result"
    }
   ],
   "source": [
    "Y_train"
   ]
  },
  {
   "cell_type": "code",
   "execution_count": 62,
   "id": "8f5a5f13",
   "metadata": {},
   "outputs": [
    {
     "data": {
      "text/plain": [
       "array([136.06, 181.57,   0.  , 127.45, 138.35,   0.  , 126.36,   0.  ,\n",
       "       130.52,  50.  , 148.49, 118.  ,  42.85, 100.  , 116.21,   0.  ,\n",
       "       119.02, 155.85,   0.  ,   0.  ,   0.  , 146.58, 133.33, 135.15,\n",
       "        84.44,  71.79,   0.  , 136.38, 100.  ,  88.88])"
      ]
     },
     "execution_count": 62,
     "metadata": {},
     "output_type": "execute_result"
    }
   ],
   "source": [
    "Y_test"
   ]
  },
  {
   "cell_type": "markdown",
   "id": "44ddd034",
   "metadata": {},
   "source": [
    "LINEAR REGRESSION ALGORITHM"
   ]
  },
  {
   "cell_type": "code",
   "execution_count": 63,
   "id": "45ba0208",
   "metadata": {},
   "outputs": [],
   "source": [
    "model_LR_1=LinearRegression().fit(X_train,Y_train)"
   ]
  },
  {
   "cell_type": "code",
   "execution_count": 64,
   "id": "7e14a88d",
   "metadata": {},
   "outputs": [],
   "source": [
    "Y_pred_LR_1=model_LR_1.predict(X_test)"
   ]
  },
  {
   "cell_type": "code",
   "execution_count": 65,
   "id": "516dc3d7",
   "metadata": {},
   "outputs": [
    {
     "data": {
      "text/plain": [
       "array([108.74335739,  90.56858712,  86.87523361,  98.91436841,\n",
       "        89.23522439,  86.52462587, 106.82717544,  86.87523361,\n",
       "        88.83017277,  86.47416018, 118.54309765,  87.25380168,\n",
       "        86.09831959,  86.74906937,  86.84204439,  86.87523361,\n",
       "        89.47849651,  97.88891571,  86.87523361,  86.87523361,\n",
       "        86.87523361,  94.0680719 ,  86.94960609,  92.9047088 ,\n",
       "        84.68925832,  84.24037131,  86.87523361, 112.2215875 ,\n",
       "        86.79953507,  86.49806696])"
      ]
     },
     "execution_count": 65,
     "metadata": {},
     "output_type": "execute_result"
    }
   ],
   "source": [
    "Y_pred_LR_1"
   ]
  },
  {
   "cell_type": "code",
   "execution_count": 66,
   "id": "99e50e3e",
   "metadata": {},
   "outputs": [
    {
     "name": "stdout",
     "output_type": "stream",
     "text": [
      "Mean_absolute_error:  47.1985827793071\n",
      "Mean_squared_error:  3087.2114189482827\n",
      "Root_mean_squared_error:  55.56268009148121\n"
     ]
    }
   ],
   "source": [
    "print('Mean_absolute_error: ',metrics.mean_absolute_error(Y_test,Y_pred_LR_1))\n",
    "print(\"Mean_squared_error: \",metrics.mean_squared_error(Y_test,Y_pred_LR_1))\n",
    "print('Root_mean_squared_error: ',np.sqrt(metrics.mean_squared_error(Y_test,Y_pred_LR_1)))"
   ]
  },
  {
   "cell_type": "code",
   "execution_count": 67,
   "id": "4cc056ed",
   "metadata": {},
   "outputs": [],
   "source": [
    "from sklearn.metrics import r2_score"
   ]
  },
  {
   "cell_type": "code",
   "execution_count": 68,
   "id": "da37c073",
   "metadata": {},
   "outputs": [],
   "source": [
    "r2_LR_1=r2_score(Y_test,Y_pred_LR_1)"
   ]
  },
  {
   "cell_type": "code",
   "execution_count": 69,
   "id": "a63ce51e",
   "metadata": {},
   "outputs": [
    {
     "name": "stdout",
     "output_type": "stream",
     "text": [
      "r2 score for LinearRegression model is 0.12056066541658728\n"
     ]
    }
   ],
   "source": [
    "print('r2 score for LinearRegression model is',r2_LR_1)"
   ]
  },
  {
   "cell_type": "markdown",
   "id": "2eee1dc7",
   "metadata": {},
   "source": [
    "DECISION TREE REGRESSOR ALGORITHM"
   ]
  },
  {
   "cell_type": "code",
   "execution_count": 70,
   "id": "c4307156",
   "metadata": {},
   "outputs": [],
   "source": [
    "model_DT_1=DecisionTreeRegressor().fit(X_train,Y_train)"
   ]
  },
  {
   "cell_type": "code",
   "execution_count": 71,
   "id": "6d3635b3",
   "metadata": {},
   "outputs": [],
   "source": [
    "Y_pred_DT_1=model_DT_1.predict(X_test)"
   ]
  },
  {
   "cell_type": "code",
   "execution_count": 72,
   "id": "ae2d2450",
   "metadata": {},
   "outputs": [
    {
     "data": {
      "text/plain": [
       "array([176.81, 146.87,   0.  , 176.81, 136.36,   0.  , 126.13,   0.  ,\n",
       "       123.23,  50.  , 176.81, 109.74,  50.  ,  83.33, 100.  ,   0.  ,\n",
       "       176.81, 109.74,   0.  ,   0.  ,   0.  , 109.74,  83.33, 109.74,\n",
       "        84.  ,  91.66,   0.  , 176.81,  50.  ,  61.53])"
      ]
     },
     "execution_count": 72,
     "metadata": {},
     "output_type": "execute_result"
    }
   ],
   "source": [
    "Y_pred_DT_1"
   ]
  },
  {
   "cell_type": "code",
   "execution_count": 73,
   "id": "448260fb",
   "metadata": {},
   "outputs": [],
   "source": [
    "r2_DT_1=r2_score(Y_test,Y_pred_DT_1)"
   ]
  },
  {
   "cell_type": "code",
   "execution_count": 74,
   "id": "53bfdddd",
   "metadata": {},
   "outputs": [
    {
     "name": "stdout",
     "output_type": "stream",
     "text": [
      "r2 score for DecisionTreeRegression model is 0.7904670372399878\n"
     ]
    }
   ],
   "source": [
    "print('r2 score for DecisionTreeRegression model is',r2_DT_1)"
   ]
  },
  {
   "cell_type": "code",
   "execution_count": 75,
   "id": "9c376ed6",
   "metadata": {},
   "outputs": [
    {
     "name": "stdout",
     "output_type": "stream",
     "text": [
      "Mean_absolute_error:  18.839000000000002\n",
      "Mean_squared_error:  735.5510833333333\n",
      "Root_mean_squared_error:  27.121045026571768\n"
     ]
    }
   ],
   "source": [
    "print('Mean_absolute_error: ',metrics.mean_absolute_error(Y_test,Y_pred_DT_1))\n",
    "print(\"Mean_squared_error: \",metrics.mean_squared_error(Y_test,Y_pred_DT_1))\n",
    "print('Root_mean_squared_error: ',np.sqrt(metrics.mean_squared_error(Y_test,Y_pred_DT_1)))"
   ]
  },
  {
   "cell_type": "markdown",
   "id": "5fab42de",
   "metadata": {},
   "source": [
    "RANDOM FOREST REGRESSOR ALGORITHM"
   ]
  },
  {
   "cell_type": "code",
   "execution_count": 76,
   "id": "020b616f",
   "metadata": {},
   "outputs": [],
   "source": [
    "model_RF_1=RandomForestRegressor().fit(X_train,Y_train)"
   ]
  },
  {
   "cell_type": "code",
   "execution_count": 77,
   "id": "6b596f38",
   "metadata": {},
   "outputs": [],
   "source": [
    "Y_pred_RF_1=model_RF_1.predict(X_test)"
   ]
  },
  {
   "cell_type": "code",
   "execution_count": 78,
   "id": "163df69d",
   "metadata": {},
   "outputs": [
    {
     "data": {
      "text/plain": [
       "array([162.365 , 125.0827,   0.    , 162.365 , 132.1294,   0.5   ,\n",
       "       132.7218,   0.    , 126.1355,  68.3331, 162.365 , 115.6162,\n",
       "        68.4049,  85.2065, 105.6757,   0.    , 162.365 , 118.4003,\n",
       "         0.    ,   0.    ,   0.    , 114.4407,  72.9469, 122.9515,\n",
       "        95.2304, 107.6259,   0.    , 161.8192,  66.5   ,  71.9511])"
      ]
     },
     "execution_count": 78,
     "metadata": {},
     "output_type": "execute_result"
    }
   ],
   "source": [
    "Y_pred_RF_1"
   ]
  },
  {
   "cell_type": "code",
   "execution_count": 79,
   "id": "e0e3aa4a",
   "metadata": {},
   "outputs": [
    {
     "name": "stdout",
     "output_type": "stream",
     "text": [
      "Mean_absolute_error:  17.621959999999977\n",
      "Mean_squared_error:  609.4467023733317\n",
      "Root_mean_squared_error:  24.68697434626876\n"
     ]
    }
   ],
   "source": [
    "print('Mean_absolute_error: ',metrics.mean_absolute_error(Y_test,Y_pred_RF_1))\n",
    "print(\"Mean_squared_error: \",metrics.mean_squared_error(Y_test,Y_pred_RF_1))\n",
    "print('Root_mean_squared_error: ',np.sqrt(metrics.mean_squared_error(Y_test,Y_pred_RF_1)))"
   ]
  },
  {
   "cell_type": "code",
   "execution_count": 80,
   "id": "e0c4bdcc",
   "metadata": {},
   "outputs": [],
   "source": [
    "r2_RF_1=r2_score(Y_test,Y_pred_RF_1)"
   ]
  },
  {
   "cell_type": "code",
   "execution_count": 81,
   "id": "994c128e",
   "metadata": {},
   "outputs": [
    {
     "name": "stdout",
     "output_type": "stream",
     "text": [
      "r2 score for RandomForestRegression model is 0.8263897965945439\n"
     ]
    }
   ],
   "source": [
    "print('r2 score for RandomForestRegression model is',r2_RF_1)"
   ]
  },
  {
   "cell_type": "code",
   "execution_count": 82,
   "id": "4d80b998",
   "metadata": {},
   "outputs": [
    {
     "data": {
      "text/plain": [
       "[0.12056066541658728, 0.7904670372399878, 0.8263897965945439]"
      ]
     },
     "execution_count": 82,
     "metadata": {},
     "output_type": "execute_result"
    }
   ],
   "source": [
    "data=[r2_LR_1,r2_DT_1,r2_RF_1]\n",
    "data"
   ]
  },
  {
   "cell_type": "code",
   "execution_count": 83,
   "id": "e1585f35",
   "metadata": {},
   "outputs": [
    {
     "data": {
      "text/plain": [
       "Text(0.5, 1.0, 'R2 values among three regressive models')"
      ]
     },
     "execution_count": 83,
     "metadata": {},
     "output_type": "execute_result"
    },
    {
     "data": {
      "image/png": "[encoded data removed]",
      "text/plain": [
       "<Figure size 648x432 with 1 Axes>"
      ]
     },
     "metadata": {
      "needs_background": "light"
     },
     "output_type": "display_data"
    }
   ],
   "source": [
    "data_labels=[\"r2_LR_1\",\"r2_DT_1\",\"r2_RF_1\"]\n",
    "plt.figure(figsize=(9,6))\n",
    "plt.bar(data_labels,data)\n",
    "plt.title(\"R2 values among three regressive models\")"
   ]
  },
  {
   "cell_type": "markdown",
   "id": "6aafa866",
   "metadata": {},
   "source": [
    "WHEN COMPARING ALL THREE REGRESSION MODELS. THE RANDOM FOREST REGRESSOR HAD HIGHEST R2 VALUE,SO IT IS THE BEST FIT REGRESSION MODEL FOR THIS DATASET"
   ]
  },
  {
   "cell_type": "code",
   "execution_count": null,
   "id": "caeab830",
   "metadata": {},
   "outputs": [],
   "source": []
  },
  {
   "cell_type": "code",
   "execution_count": null,
   "id": "c285da13",
   "metadata": {},
   "outputs": [],
   "source": []
  }
 ],
 "metadata": {
  "kernelspec": {
   "display_name": "Python 3 (ipykernel)",
   "language": "python",
   "name": "python3"
  },
  "language_info": {
   "codemirror_mode": {
    "name": "ipython",
    "version": 3
   },
   "file_extension": ".py",
   "mimetype": "text/x-python",
   "name": "python",
   "nbconvert_exporter": "python",
   "pygments_lexer": "ipython3",
   "version": "3.9.12"
  }
 },
 "nbformat": 4,
 "nbformat_minor": 5
}
